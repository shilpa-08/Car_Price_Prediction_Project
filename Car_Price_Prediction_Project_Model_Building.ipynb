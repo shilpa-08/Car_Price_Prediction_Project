{
 "cells": [
  {
   "cell_type": "code",
   "execution_count": 1,
   "metadata": {},
   "outputs": [],
   "source": [
    "\n",
    "# importing necessary libraries\n",
    "import pandas as pd\n",
    "import numpy as np\n",
    "import seaborn as sns\n",
    "import matplotlib.pyplot as plt\n",
    "import warnings\n",
    "warnings.filterwarnings('ignore')"
   ]
  },
  {
   "cell_type": "markdown",
   "metadata": {},
   "source": [
    "## loading the data files from different csv files"
   ]
  },
  {
   "cell_type": "markdown",
   "metadata": {},
   "source": [
    "#### Reading First CSV file"
   ]
  },
  {
   "cell_type": "code",
   "execution_count": 2,
   "metadata": {},
   "outputs": [],
   "source": [
    "\n",
    "df1=pd.read_csv('ahmedabad_cars_data.csv',index_col=False)"
   ]
  },
  {
   "cell_type": "code",
   "execution_count": 3,
   "metadata": {
    "scrolled": true
   },
   "outputs": [
    {
     "data": {
      "text/html": [
       "<div>\n",
       "<style scoped>\n",
       "    .dataframe tbody tr th:only-of-type {\n",
       "        vertical-align: middle;\n",
       "    }\n",
       "\n",
       "    .dataframe tbody tr th {\n",
       "        vertical-align: top;\n",
       "    }\n",
       "\n",
       "    .dataframe thead th {\n",
       "        text-align: right;\n",
       "    }\n",
       "</style>\n",
       "<table border=\"1\" class=\"dataframe\">\n",
       "  <thead>\n",
       "    <tr style=\"text-align: right;\">\n",
       "      <th></th>\n",
       "      <th>Unnamed: 0</th>\n",
       "      <th>Brand</th>\n",
       "      <th>Model</th>\n",
       "      <th>Variant</th>\n",
       "      <th>Manufacturing_year</th>\n",
       "      <th>Driven_kilometers</th>\n",
       "      <th>Fuel</th>\n",
       "      <th>number_of_owners</th>\n",
       "      <th>location</th>\n",
       "      <th>Price</th>\n",
       "    </tr>\n",
       "  </thead>\n",
       "  <tbody>\n",
       "    <tr>\n",
       "      <th>0</th>\n",
       "      <td>0</td>\n",
       "      <td>Maruti</td>\n",
       "      <td>Eeco</td>\n",
       "      <td>5 Seater AC BSIV</td>\n",
       "      <td>2019</td>\n",
       "      <td>14,161 Kms</td>\n",
       "      <td>Petrol</td>\n",
       "      <td>1st Owner</td>\n",
       "      <td>Ahmedabad</td>\n",
       "      <td>₹ 4,48,500</td>\n",
       "    </tr>\n",
       "    <tr>\n",
       "      <th>1</th>\n",
       "      <td>1</td>\n",
       "      <td>Maruti</td>\n",
       "      <td>Eeco</td>\n",
       "      <td>5 Seater AC</td>\n",
       "      <td>2020</td>\n",
       "      <td>17,116 Kms</td>\n",
       "      <td>Petrol</td>\n",
       "      <td>1st Owner</td>\n",
       "      <td>Ahmedabad</td>\n",
       "      <td>₹ 4,74,500</td>\n",
       "    </tr>\n",
       "    <tr>\n",
       "      <th>2</th>\n",
       "      <td>2</td>\n",
       "      <td>Maruti</td>\n",
       "      <td>S-Presso</td>\n",
       "      <td>VXI</td>\n",
       "      <td>2019</td>\n",
       "      <td>24,230 Kms</td>\n",
       "      <td>Petrol</td>\n",
       "      <td>1st Owner</td>\n",
       "      <td>Ahmedabad</td>\n",
       "      <td>₹ 4,15,500</td>\n",
       "    </tr>\n",
       "    <tr>\n",
       "      <th>3</th>\n",
       "      <td>3</td>\n",
       "      <td>Maruti</td>\n",
       "      <td>Eeco</td>\n",
       "      <td>5 Seater AC</td>\n",
       "      <td>2012</td>\n",
       "      <td>57,341 Kms</td>\n",
       "      <td>Petrol</td>\n",
       "      <td>1st Owner</td>\n",
       "      <td>Ahmedabad</td>\n",
       "      <td>₹ 2,73,500</td>\n",
       "    </tr>\n",
       "    <tr>\n",
       "      <th>4</th>\n",
       "      <td>4</td>\n",
       "      <td>Maruti</td>\n",
       "      <td>Baleno</td>\n",
       "      <td>1.2 Delta</td>\n",
       "      <td>2016</td>\n",
       "      <td>51,069 Kms</td>\n",
       "      <td>Petrol</td>\n",
       "      <td>1st Owner</td>\n",
       "      <td>Ahmedabad</td>\n",
       "      <td>₹ 5,39,000</td>\n",
       "    </tr>\n",
       "  </tbody>\n",
       "</table>\n",
       "</div>"
      ],
      "text/plain": [
       "   Unnamed: 0   Brand     Model           Variant  Manufacturing_year  \\\n",
       "0           0  Maruti      Eeco  5 Seater AC BSIV                2019   \n",
       "1           1  Maruti      Eeco       5 Seater AC                2020   \n",
       "2           2  Maruti  S-Presso               VXI                2019   \n",
       "3           3  Maruti      Eeco       5 Seater AC                2012   \n",
       "4           4  Maruti    Baleno         1.2 Delta                2016   \n",
       "\n",
       "  Driven_kilometers    Fuel number_of_owners   location       Price  \n",
       "0        14,161 Kms  Petrol        1st Owner  Ahmedabad  ₹ 4,48,500  \n",
       "1        17,116 Kms  Petrol        1st Owner  Ahmedabad  ₹ 4,74,500  \n",
       "2        24,230 Kms  Petrol        1st Owner  Ahmedabad  ₹ 4,15,500  \n",
       "3        57,341 Kms  Petrol        1st Owner  Ahmedabad  ₹ 2,73,500  \n",
       "4        51,069 Kms  Petrol        1st Owner  Ahmedabad  ₹ 5,39,000  "
      ]
     },
     "execution_count": 3,
     "metadata": {},
     "output_type": "execute_result"
    }
   ],
   "source": [
    "df1.head(5)"
   ]
  },
  {
   "cell_type": "code",
   "execution_count": 4,
   "metadata": {},
   "outputs": [
    {
     "data": {
      "text/plain": [
       "(1104, 10)"
      ]
     },
     "execution_count": 4,
     "metadata": {},
     "output_type": "execute_result"
    }
   ],
   "source": [
    "# checking the dimension of the dataframe\n",
    "df1.shape"
   ]
  },
  {
   "cell_type": "markdown",
   "metadata": {},
   "source": [
    " During the EDA done it was  find that some cleaning and processing of data should be done before concatinating the data because after concatination some  problem  related to index arises, so I find it better to solve the problem first before concatinating them therefore treating the price column and Driven kilometer columns first"
   ]
  },
  {
   "cell_type": "code",
   "execution_count": 5,
   "metadata": {
    "scrolled": true
   },
   "outputs": [
    {
     "name": "stdout",
     "output_type": "stream",
     "text": [
      "5.51 Lakh*\n",
      "2.3 Lakh*\n"
     ]
    }
   ],
   "source": [
    "print(df1['Price'][1008])\n",
    "print(df1['Price'][1005])"
   ]
  },
  {
   "cell_type": "code",
   "execution_count": 6,
   "metadata": {},
   "outputs": [],
   "source": [
    "import regex as re\n",
    " # if price is 2.3 lakh* converting it as 2,30 000 \n",
    "# if price is 2.45 lakh* then converting it as 2,45,000\n",
    "# if price is 7 lakh* converting it as 7,00,000 \n",
    "\n",
    "for i in range(0,len(df1['Price'])):\n",
    "    string=df1['Price'][i]\n",
    "    pattern='[0-9]+'\n",
    "    result1=re.findall(pattern,string)\n",
    "    #print(result1)\n",
    "    pattern='\\W'\n",
    "    result2=re.findall(pattern,string)\n",
    "    if result2[0]=='.':\n",
    "        if int(result1[1]) > 9:\n",
    "            string=string.replace('Lakh*','000')\n",
    "            df1['Price'][i]=string\n",
    "            #print('1')\n",
    "            #print(string)\n",
    "        else:\n",
    "            string=string.replace('Lakh*','0 000')\n",
    "            df1['Price'][i]=string\n",
    "            #print('2')\n",
    "            #print(string)\n",
    "\n",
    "    else:\n",
    "        string=string.replace('Lakh*','00000')\n",
    "        df1['Price'][i]=string\n",
    "        #print(string)    "
   ]
  },
  {
   "cell_type": "code",
   "execution_count": 7,
   "metadata": {},
   "outputs": [],
   "source": [
    "\n",
    "# just like prices converting the driven kilometers \n",
    "for i in range(0,len(df1['Driven_kilometers'])):\n",
    "    string=df1['Driven_kilometers'][i]\n",
    "    pattern='[0-9]+'\n",
    "    result1=re.findall(pattern,string)\n",
    "    #print(result1)\n",
    "    pattern='\\W'\n",
    "    result2=re.findall(pattern,string)\n",
    "    if result2[0]=='.':\n",
    "        if int(result1[1]) > 9:\n",
    "            string=string.replace('Lakh*','000')\n",
    "            df1['Driven_kilometers'][i]=string\n",
    "            #print('1')\n",
    "            #print(string)\n",
    "        else:\n",
    "            string=string.replace('Lakh*','0 000')\n",
    "            df1['Driven_kilometers'][i]=string\n",
    "            #print('2')\n",
    "            #print(string)\n",
    "\n",
    "    else:\n",
    "        string=string.replace('Lakh*','00000')\n",
    "        df1['Driven_kilometers'][i]=string\n",
    "        #print(string)  "
   ]
  },
  {
   "cell_type": "code",
   "execution_count": 8,
   "metadata": {},
   "outputs": [
    {
     "name": "stdout",
     "output_type": "stream",
     "text": [
      "5.51 000\n",
      "2.3 0 000\n"
     ]
    }
   ],
   "source": [
    "print(df1['Price'][1008])\n",
    "print(df1['Price'][1005])"
   ]
  },
  {
   "cell_type": "markdown",
   "metadata": {},
   "source": [
    "### Reading The second csv file"
   ]
  },
  {
   "cell_type": "code",
   "execution_count": 9,
   "metadata": {},
   "outputs": [],
   "source": [
    "# reading 2nd collected data files\n",
    "df2=pd.read_csv('banglore_cars_data.csv')"
   ]
  },
  {
   "cell_type": "code",
   "execution_count": 10,
   "metadata": {},
   "outputs": [
    {
     "data": {
      "text/html": [
       "<div>\n",
       "<style scoped>\n",
       "    .dataframe tbody tr th:only-of-type {\n",
       "        vertical-align: middle;\n",
       "    }\n",
       "\n",
       "    .dataframe tbody tr th {\n",
       "        vertical-align: top;\n",
       "    }\n",
       "\n",
       "    .dataframe thead th {\n",
       "        text-align: right;\n",
       "    }\n",
       "</style>\n",
       "<table border=\"1\" class=\"dataframe\">\n",
       "  <thead>\n",
       "    <tr style=\"text-align: right;\">\n",
       "      <th></th>\n",
       "      <th>Unnamed: 0</th>\n",
       "      <th>Brand</th>\n",
       "      <th>Model</th>\n",
       "      <th>Variant</th>\n",
       "      <th>Manufacturing_year</th>\n",
       "      <th>Driven_kilometers</th>\n",
       "      <th>Fuel</th>\n",
       "      <th>number_of_owners</th>\n",
       "      <th>location</th>\n",
       "      <th>Price</th>\n",
       "    </tr>\n",
       "  </thead>\n",
       "  <tbody>\n",
       "    <tr>\n",
       "      <th>0</th>\n",
       "      <td>0</td>\n",
       "      <td>Maruti</td>\n",
       "      <td>Wagon</td>\n",
       "      <td>VXI</td>\n",
       "      <td>2016</td>\n",
       "      <td>20,815 Kms</td>\n",
       "      <td>Petrol</td>\n",
       "      <td>1st Owner</td>\n",
       "      <td>Banglore</td>\n",
       "      <td>₹ 4,69,000</td>\n",
       "    </tr>\n",
       "    <tr>\n",
       "      <th>1</th>\n",
       "      <td>1</td>\n",
       "      <td>Maruti</td>\n",
       "      <td>Ignis</td>\n",
       "      <td>1.2 Delta BSIV</td>\n",
       "      <td>2017</td>\n",
       "      <td>42,206 Kms</td>\n",
       "      <td>Petrol</td>\n",
       "      <td>1st Owner</td>\n",
       "      <td>Banglore</td>\n",
       "      <td>₹ 5,32,000</td>\n",
       "    </tr>\n",
       "    <tr>\n",
       "      <th>2</th>\n",
       "      <td>2</td>\n",
       "      <td>Maruti</td>\n",
       "      <td>Alto</td>\n",
       "      <td>LXi BSIII</td>\n",
       "      <td>2010</td>\n",
       "      <td>60,998 Kms</td>\n",
       "      <td>Petrol</td>\n",
       "      <td>1st Owner</td>\n",
       "      <td>Banglore</td>\n",
       "      <td>₹ 2,29,500</td>\n",
       "    </tr>\n",
       "    <tr>\n",
       "      <th>3</th>\n",
       "      <td>3</td>\n",
       "      <td>Hyundai</td>\n",
       "      <td>i10</td>\n",
       "      <td>Sportz</td>\n",
       "      <td>2008</td>\n",
       "      <td>93,398 Kms</td>\n",
       "      <td>Petrol</td>\n",
       "      <td>1st Owner</td>\n",
       "      <td>Banglore</td>\n",
       "      <td>₹ 2,65,500</td>\n",
       "    </tr>\n",
       "    <tr>\n",
       "      <th>4</th>\n",
       "      <td>4</td>\n",
       "      <td>Hyundai</td>\n",
       "      <td>Grand</td>\n",
       "      <td>1.2 Kappa Sportz BSIV</td>\n",
       "      <td>2019</td>\n",
       "      <td>9,369 Kms</td>\n",
       "      <td>Petrol</td>\n",
       "      <td>1st Owner</td>\n",
       "      <td>Banglore</td>\n",
       "      <td>₹ 6,19,000</td>\n",
       "    </tr>\n",
       "  </tbody>\n",
       "</table>\n",
       "</div>"
      ],
      "text/plain": [
       "   Unnamed: 0    Brand  Model                Variant  Manufacturing_year  \\\n",
       "0           0   Maruti  Wagon                    VXI                2016   \n",
       "1           1   Maruti  Ignis         1.2 Delta BSIV                2017   \n",
       "2           2   Maruti   Alto              LXi BSIII                2010   \n",
       "3           3  Hyundai    i10                 Sportz                2008   \n",
       "4           4  Hyundai  Grand  1.2 Kappa Sportz BSIV                2019   \n",
       "\n",
       "  Driven_kilometers    Fuel number_of_owners  location       Price  \n",
       "0        20,815 Kms  Petrol        1st Owner  Banglore  ₹ 4,69,000  \n",
       "1        42,206 Kms  Petrol        1st Owner  Banglore  ₹ 5,32,000  \n",
       "2        60,998 Kms  Petrol        1st Owner  Banglore  ₹ 2,29,500  \n",
       "3        93,398 Kms  Petrol        1st Owner  Banglore  ₹ 2,65,500  \n",
       "4         9,369 Kms  Petrol        1st Owner  Banglore  ₹ 6,19,000  "
      ]
     },
     "execution_count": 10,
     "metadata": {},
     "output_type": "execute_result"
    }
   ],
   "source": [
    "df2.head(5)"
   ]
  },
  {
   "cell_type": "code",
   "execution_count": 11,
   "metadata": {},
   "outputs": [
    {
     "data": {
      "text/plain": [
       "(1760, 10)"
      ]
     },
     "execution_count": 11,
     "metadata": {},
     "output_type": "execute_result"
    }
   ],
   "source": [
    "# checking the dimension of the dataframe\n",
    "df2.shape"
   ]
  },
  {
   "cell_type": "code",
   "execution_count": 12,
   "metadata": {
    "scrolled": false
   },
   "outputs": [
    {
     "name": "stdout",
     "output_type": "stream",
     "text": [
      "7.73 Lakh*\n",
      "3.5 Lakh*\n"
     ]
    }
   ],
   "source": [
    "print(df2['Price'][998])\n",
    "print(df2['Price'][1446])"
   ]
  },
  {
   "cell_type": "code",
   "execution_count": 13,
   "metadata": {},
   "outputs": [],
   "source": [
    " # if price is 2.3 lakh* converting it as 2,30 000 \n",
    "# if price is 2.45 lakh* then converting it as 2,45,000\n",
    "# if price is 7 lakh* converting it as 7,00,000 \n",
    "\n",
    "for i in range(0,len(df2['Price'])):\n",
    "    string=df2['Price'][i]\n",
    "    pattern='[0-9]+'\n",
    "    result1=re.findall(pattern,string)\n",
    "    #print(result1)\n",
    "    pattern='\\W'\n",
    "    result2=re.findall(pattern,string)\n",
    "    if result2[0]=='.':\n",
    "        if int(result1[1]) > 9:\n",
    "            string=string.replace('Lakh*','000')\n",
    "            df2['Price'][i]=string\n",
    "            #print('1')\n",
    "            #print(string)\n",
    "        else:\n",
    "            string=string.replace('Lakh*','0 000')\n",
    "            df2['Price'][i]=string\n",
    "            #print('2')\n",
    "            #print(string)\n",
    "\n",
    "    else:\n",
    "        string=string.replace('Lakh*','00000')\n",
    "        df2['Price'][i]=string\n",
    "        #print(string)    "
   ]
  },
  {
   "cell_type": "code",
   "execution_count": 14,
   "metadata": {},
   "outputs": [],
   "source": [
    "for i in range(0,len(df2['Driven_kilometers'])):\n",
    "    string=df2['Driven_kilometers'][i]\n",
    "    pattern='[0-9]+'\n",
    "    result1=re.findall(pattern,string)\n",
    "    #print(result1)\n",
    "    pattern='\\W'\n",
    "    result2=re.findall(pattern,string)\n",
    "    if result2[0]=='.':\n",
    "        if int(result1[1]) > 9:\n",
    "            string=string.replace('Lakh*','000')\n",
    "            df2['Driven_kilometers'][i]=string\n",
    "            #print('1')\n",
    "            #print(string)\n",
    "        else:\n",
    "            string=string.replace('Lakh*','0 000')\n",
    "            df2['Driven_kilometers'][i]=string\n",
    "            #print('2')\n",
    "            #print(string)\n",
    "\n",
    "    else:\n",
    "        string=string.replace('Lakh*','00000')\n",
    "        df2['Driven_kilometers'][i]=string\n",
    "        #print(string)    "
   ]
  },
  {
   "cell_type": "code",
   "execution_count": 15,
   "metadata": {},
   "outputs": [
    {
     "name": "stdout",
     "output_type": "stream",
     "text": [
      "7.73 000\n",
      "3.5 0 000\n"
     ]
    }
   ],
   "source": [
    "print(df2['Price'][998])\n",
    "print(df2['Price'][1446])"
   ]
  },
  {
   "cell_type": "markdown",
   "metadata": {},
   "source": [
    "#### reading third dataset"
   ]
  },
  {
   "cell_type": "code",
   "execution_count": 16,
   "metadata": {},
   "outputs": [],
   "source": [
    "# reading collected data files\n",
    "df3=pd.read_csv('chennai_cars_data.csv')"
   ]
  },
  {
   "cell_type": "code",
   "execution_count": 17,
   "metadata": {},
   "outputs": [
    {
     "data": {
      "text/html": [
       "<div>\n",
       "<style scoped>\n",
       "    .dataframe tbody tr th:only-of-type {\n",
       "        vertical-align: middle;\n",
       "    }\n",
       "\n",
       "    .dataframe tbody tr th {\n",
       "        vertical-align: top;\n",
       "    }\n",
       "\n",
       "    .dataframe thead th {\n",
       "        text-align: right;\n",
       "    }\n",
       "</style>\n",
       "<table border=\"1\" class=\"dataframe\">\n",
       "  <thead>\n",
       "    <tr style=\"text-align: right;\">\n",
       "      <th></th>\n",
       "      <th>Unnamed: 0</th>\n",
       "      <th>Brand</th>\n",
       "      <th>Model</th>\n",
       "      <th>Variant</th>\n",
       "      <th>Manufacturing_year</th>\n",
       "      <th>Driven_kilometers</th>\n",
       "      <th>Fuel</th>\n",
       "      <th>number_of_owners</th>\n",
       "      <th>location</th>\n",
       "      <th>Price</th>\n",
       "    </tr>\n",
       "  </thead>\n",
       "  <tbody>\n",
       "    <tr>\n",
       "      <th>0</th>\n",
       "      <td>0</td>\n",
       "      <td>Maruti</td>\n",
       "      <td>Swift</td>\n",
       "      <td>ZDI BSIV</td>\n",
       "      <td>2017</td>\n",
       "      <td>81,000 kms</td>\n",
       "      <td>Diesel</td>\n",
       "      <td>First Owner</td>\n",
       "      <td>chennai</td>\n",
       "      <td>6.25 Lakh*</td>\n",
       "    </tr>\n",
       "    <tr>\n",
       "      <th>1</th>\n",
       "      <td>1</td>\n",
       "      <td>Hyundai</td>\n",
       "      <td>EON</td>\n",
       "      <td>Era Plus Option</td>\n",
       "      <td>2016</td>\n",
       "      <td>41,671 kms</td>\n",
       "      <td>Petrol</td>\n",
       "      <td>First Owner</td>\n",
       "      <td>chennai</td>\n",
       "      <td>3.33 Lakh*</td>\n",
       "    </tr>\n",
       "    <tr>\n",
       "      <th>2</th>\n",
       "      <td>2</td>\n",
       "      <td>Ford</td>\n",
       "      <td>EcoSport</td>\n",
       "      <td>1.5 Petrol Titanium Plus AT</td>\n",
       "      <td>2018</td>\n",
       "      <td>40,000 kms</td>\n",
       "      <td>Petrol</td>\n",
       "      <td>First Owner</td>\n",
       "      <td>chennai</td>\n",
       "      <td>8.9 Lakh*</td>\n",
       "    </tr>\n",
       "    <tr>\n",
       "      <th>3</th>\n",
       "      <td>3</td>\n",
       "      <td>Honda</td>\n",
       "      <td>Mobilio</td>\n",
       "      <td>S i VTEC</td>\n",
       "      <td>2015</td>\n",
       "      <td>24,500 kms</td>\n",
       "      <td>Petrol</td>\n",
       "      <td>First Owner</td>\n",
       "      <td>chennai</td>\n",
       "      <td>6.75 Lakh*</td>\n",
       "    </tr>\n",
       "    <tr>\n",
       "      <th>4</th>\n",
       "      <td>4</td>\n",
       "      <td>Nissan</td>\n",
       "      <td>Micra</td>\n",
       "      <td>XL</td>\n",
       "      <td>2017</td>\n",
       "      <td>84,000 kms</td>\n",
       "      <td>Petrol</td>\n",
       "      <td>First Owner</td>\n",
       "      <td>chennai</td>\n",
       "      <td>4.15 Lakh*</td>\n",
       "    </tr>\n",
       "  </tbody>\n",
       "</table>\n",
       "</div>"
      ],
      "text/plain": [
       "   Unnamed: 0    Brand     Model                      Variant  \\\n",
       "0           0   Maruti     Swift                     ZDI BSIV   \n",
       "1           1  Hyundai       EON              Era Plus Option   \n",
       "2           2     Ford  EcoSport  1.5 Petrol Titanium Plus AT   \n",
       "3           3    Honda   Mobilio                     S i VTEC   \n",
       "4           4   Nissan     Micra                           XL   \n",
       "\n",
       "   Manufacturing_year Driven_kilometers    Fuel number_of_owners location  \\\n",
       "0                2017        81,000 kms  Diesel      First Owner  chennai   \n",
       "1                2016        41,671 kms  Petrol      First Owner  chennai   \n",
       "2                2018        40,000 kms  Petrol      First Owner  chennai   \n",
       "3                2015        24,500 kms  Petrol      First Owner  chennai   \n",
       "4                2017        84,000 kms  Petrol      First Owner  chennai   \n",
       "\n",
       "        Price  \n",
       "0  6.25 Lakh*  \n",
       "1  3.33 Lakh*  \n",
       "2   8.9 Lakh*  \n",
       "3  6.75 Lakh*  \n",
       "4  4.15 Lakh*  "
      ]
     },
     "execution_count": 17,
     "metadata": {},
     "output_type": "execute_result"
    }
   ],
   "source": [
    "df3.head(5)"
   ]
  },
  {
   "cell_type": "code",
   "execution_count": 18,
   "metadata": {},
   "outputs": [
    {
     "data": {
      "text/plain": [
       "(1085, 10)"
      ]
     },
     "execution_count": 18,
     "metadata": {},
     "output_type": "execute_result"
    }
   ],
   "source": [
    "# checking the dimension of the dataframe\n",
    "df3.shape"
   ]
  },
  {
   "cell_type": "code",
   "execution_count": 19,
   "metadata": {
    "scrolled": false
   },
   "outputs": [
    {
     "name": "stdout",
     "output_type": "stream",
     "text": [
      "4.35 Lakh*\n",
      "8.9 Lakh*\n"
     ]
    }
   ],
   "source": [
    "print(df3['Price'][998])\n",
    "print(df3['Price'][2])"
   ]
  },
  {
   "cell_type": "code",
   "execution_count": 20,
   "metadata": {},
   "outputs": [],
   "source": [
    " # if price is 2.3 lakh* converting it as 2,30 000 \n",
    "# if price is 2.45 lakh* then converting it as 2,45,000\n",
    "# if price is 7 lakh* converting it as 7,00,000 \n",
    "\n",
    "for i in range(0,len(df3['Price'])):\n",
    "    string=df3['Price'][i]\n",
    "    pattern='[0-9]+'\n",
    "    result1=re.findall(pattern,string)\n",
    "    #print(result1)\n",
    "    pattern='\\W'\n",
    "    result2=re.findall(pattern,string)\n",
    "    if result2[0]=='.':\n",
    "        if int(result1[1]) > 9:\n",
    "            string=string.replace('Lakh*','000')\n",
    "            df3['Price'][i]=string\n",
    "            #print('1')\n",
    "            #print(string)\n",
    "        else:\n",
    "            string=string.replace('Lakh*','0 000')\n",
    "            df3['Price'][i]=string\n",
    "            #print('2')\n",
    "            #print(string)\n",
    "\n",
    "    else:\n",
    "        string=string.replace('Lakh*','00000')\n",
    "        df3['Price'][i]=string\n",
    "        #print(string)    "
   ]
  },
  {
   "cell_type": "code",
   "execution_count": 21,
   "metadata": {},
   "outputs": [],
   "source": [
    "for i in range(0,len(df3['Driven_kilometers'])):\n",
    "    string=df3['Driven_kilometers'][i]\n",
    "    pattern='[0-9]+'\n",
    "    result1=re.findall(pattern,string)\n",
    "    #print(result1)\n",
    "    pattern='\\W'\n",
    "    result2=re.findall(pattern,string)\n",
    "    if result2[0]=='.':\n",
    "        if int(result1[1]) > 9:\n",
    "            string=string.replace('Lakh*','000')\n",
    "            df3['Driven_kilometers'][i]=string\n",
    "            #print('1')\n",
    "            #print(string)\n",
    "        else:\n",
    "            string=string.replace('Lakh*','0 000')\n",
    "            df3['Driven_kilometers'][i]=string\n",
    "            #print('2')\n",
    "            #print(string)\n",
    "\n",
    "    else:\n",
    "        string=string.replace('Lakh*','00000')\n",
    "        df3['Driven_kilometers'][i]=string\n",
    "        #print(string)    "
   ]
  },
  {
   "cell_type": "code",
   "execution_count": 22,
   "metadata": {},
   "outputs": [
    {
     "name": "stdout",
     "output_type": "stream",
     "text": [
      "4.35 000\n",
      "8.9 0 000\n"
     ]
    }
   ],
   "source": [
    "print(df3['Price'][998])\n",
    "print(df3['Price'][2])"
   ]
  },
  {
   "cell_type": "markdown",
   "metadata": {},
   "source": [
    "#### Reading fourth dataset"
   ]
  },
  {
   "cell_type": "code",
   "execution_count": 23,
   "metadata": {},
   "outputs": [],
   "source": [
    "# reading collected data files\n",
    "df4=pd.read_csv('delhi_cars_data.csv')"
   ]
  },
  {
   "cell_type": "code",
   "execution_count": 24,
   "metadata": {},
   "outputs": [
    {
     "data": {
      "text/html": [
       "<div>\n",
       "<style scoped>\n",
       "    .dataframe tbody tr th:only-of-type {\n",
       "        vertical-align: middle;\n",
       "    }\n",
       "\n",
       "    .dataframe tbody tr th {\n",
       "        vertical-align: top;\n",
       "    }\n",
       "\n",
       "    .dataframe thead th {\n",
       "        text-align: right;\n",
       "    }\n",
       "</style>\n",
       "<table border=\"1\" class=\"dataframe\">\n",
       "  <thead>\n",
       "    <tr style=\"text-align: right;\">\n",
       "      <th></th>\n",
       "      <th>Unnamed: 0</th>\n",
       "      <th>Brand</th>\n",
       "      <th>Model</th>\n",
       "      <th>Variant</th>\n",
       "      <th>Manufacturing_year</th>\n",
       "      <th>Driven_kilometers</th>\n",
       "      <th>Fuel</th>\n",
       "      <th>number_of_owners</th>\n",
       "      <th>location</th>\n",
       "      <th>Price</th>\n",
       "    </tr>\n",
       "  </thead>\n",
       "  <tbody>\n",
       "    <tr>\n",
       "      <th>0</th>\n",
       "      <td>0</td>\n",
       "      <td>Hyundai</td>\n",
       "      <td>Santa</td>\n",
       "      <td>4WD AT</td>\n",
       "      <td>2012</td>\n",
       "      <td>118,874 Kms</td>\n",
       "      <td>Diesel</td>\n",
       "      <td>2nd Owner</td>\n",
       "      <td>delhi</td>\n",
       "      <td>₹ 4,45,500</td>\n",
       "    </tr>\n",
       "    <tr>\n",
       "      <th>1</th>\n",
       "      <td>1</td>\n",
       "      <td>Hyundai</td>\n",
       "      <td>Verna</td>\n",
       "      <td>VTVT 1.6 SX</td>\n",
       "      <td>2019</td>\n",
       "      <td>28,692 Kms</td>\n",
       "      <td>Petrol</td>\n",
       "      <td>1st Owner</td>\n",
       "      <td>delhi</td>\n",
       "      <td>₹ 9,49,000</td>\n",
       "    </tr>\n",
       "    <tr>\n",
       "      <th>2</th>\n",
       "      <td>2</td>\n",
       "      <td>Ford</td>\n",
       "      <td>Ecosport</td>\n",
       "      <td>1.5 Diesel Titanium</td>\n",
       "      <td>2016</td>\n",
       "      <td>87,967 Kms</td>\n",
       "      <td>Diesel</td>\n",
       "      <td>1st Owner</td>\n",
       "      <td>delhi</td>\n",
       "      <td>₹ 6,05,000</td>\n",
       "    </tr>\n",
       "    <tr>\n",
       "      <th>3</th>\n",
       "      <td>3</td>\n",
       "      <td>Maruti</td>\n",
       "      <td>Swift</td>\n",
       "      <td>VDI BSIV</td>\n",
       "      <td>2017</td>\n",
       "      <td>56,693 Kms</td>\n",
       "      <td>Diesel</td>\n",
       "      <td>1st Owner</td>\n",
       "      <td>delhi</td>\n",
       "      <td>₹ 5,04,000</td>\n",
       "    </tr>\n",
       "    <tr>\n",
       "      <th>4</th>\n",
       "      <td>4</td>\n",
       "      <td>Tata</td>\n",
       "      <td>Tiago</td>\n",
       "      <td>1.2 Revotron XZ</td>\n",
       "      <td>2019</td>\n",
       "      <td>6,947 Kms</td>\n",
       "      <td>Petrol</td>\n",
       "      <td>1st Owner</td>\n",
       "      <td>delhi</td>\n",
       "      <td>₹ 5,40,500</td>\n",
       "    </tr>\n",
       "  </tbody>\n",
       "</table>\n",
       "</div>"
      ],
      "text/plain": [
       "   Unnamed: 0    Brand     Model              Variant  Manufacturing_year  \\\n",
       "0           0  Hyundai     Santa               4WD AT                2012   \n",
       "1           1  Hyundai     Verna          VTVT 1.6 SX                2019   \n",
       "2           2     Ford  Ecosport  1.5 Diesel Titanium                2016   \n",
       "3           3   Maruti     Swift             VDI BSIV                2017   \n",
       "4           4     Tata     Tiago      1.2 Revotron XZ                2019   \n",
       "\n",
       "  Driven_kilometers    Fuel number_of_owners location       Price  \n",
       "0       118,874 Kms  Diesel        2nd Owner    delhi  ₹ 4,45,500  \n",
       "1        28,692 Kms  Petrol        1st Owner    delhi  ₹ 9,49,000  \n",
       "2        87,967 Kms  Diesel        1st Owner    delhi  ₹ 6,05,000  \n",
       "3        56,693 Kms  Diesel        1st Owner    delhi  ₹ 5,04,000  \n",
       "4         6,947 Kms  Petrol        1st Owner    delhi  ₹ 5,40,500  "
      ]
     },
     "execution_count": 24,
     "metadata": {},
     "output_type": "execute_result"
    }
   ],
   "source": [
    "df4.head(5)"
   ]
  },
  {
   "cell_type": "code",
   "execution_count": 25,
   "metadata": {},
   "outputs": [
    {
     "data": {
      "text/plain": [
       "(3400, 10)"
      ]
     },
     "execution_count": 25,
     "metadata": {},
     "output_type": "execute_result"
    }
   ],
   "source": [
    "df4.shape"
   ]
  },
  {
   "cell_type": "code",
   "execution_count": 26,
   "metadata": {
    "scrolled": false
   },
   "outputs": [
    {
     "name": "stdout",
     "output_type": "stream",
     "text": [
      "7.75 Lakh*\n",
      "37 Lakh*\n"
     ]
    }
   ],
   "source": [
    "print(df4['Price'][998])\n",
    "print(df4['Price'][1446])"
   ]
  },
  {
   "cell_type": "code",
   "execution_count": 27,
   "metadata": {},
   "outputs": [],
   "source": [
    " # if price is 2.3 lakh* converting it as 2,30 000 \n",
    "# if price is 2.45 lakh* then converting it as 2,45,000\n",
    "# if price is 7 lakh* converting it as 7,00,000 \n",
    "\n",
    "for i in range(0,len(df4['Price'])):\n",
    "    string=df4['Price'][i]\n",
    "    pattern='[0-9]+'\n",
    "    result1=re.findall(pattern,string)\n",
    "    #print(result1)\n",
    "    pattern='\\W'\n",
    "    result2=re.findall(pattern,string)\n",
    "    if result2[0]=='.':\n",
    "        if int(result1[1]) > 9:\n",
    "            string=string.replace('Lakh*','000')\n",
    "            df4['Price'][i]=string\n",
    "            #print('1')\n",
    "            #print(string)\n",
    "        else:\n",
    "            string=string.replace('Lakh*','0 000')\n",
    "            df4['Price'][i]=string\n",
    "            #print('2')\n",
    "            #print(string)\n",
    "\n",
    "    else:\n",
    "        string=string.replace('Lakh*','00000')\n",
    "        df4['Price'][i]=string\n",
    "        #print(string)    "
   ]
  },
  {
   "cell_type": "code",
   "execution_count": 28,
   "metadata": {},
   "outputs": [],
   "source": [
    "for i in range(0,len(df4['Driven_kilometers'])):\n",
    "    string=df4['Driven_kilometers'][i]\n",
    "    pattern='[0-9]+'\n",
    "    result1=re.findall(pattern,string)\n",
    "    #print(result1)\n",
    "    pattern='\\W'\n",
    "    result2=re.findall(pattern,string)\n",
    "    if result2[0]=='.':\n",
    "        if int(result1[1]) > 9:\n",
    "            string=string.replace('Lakh*','000')\n",
    "            df4['Driven_kilometers'][i]=string\n",
    "            #print('1')\n",
    "            #print(string)\n",
    "        else:\n",
    "            string=string.replace('Lakh*','0 000')\n",
    "            df4['Driven_kilometers'][i]=string\n",
    "            #print('2')\n",
    "            #print(string)\n",
    "\n",
    "    else:\n",
    "        string=string.replace('Lakh*','00000')\n",
    "        df4['Driven_kilometers'][i]=string\n",
    "        #print(string)    "
   ]
  },
  {
   "cell_type": "code",
   "execution_count": 29,
   "metadata": {},
   "outputs": [
    {
     "name": "stdout",
     "output_type": "stream",
     "text": [
      "7.75 000\n",
      "37 00000\n"
     ]
    }
   ],
   "source": [
    "print(df4['Price'][998])\n",
    "print(df4['Price'][1446])"
   ]
  },
  {
   "cell_type": "markdown",
   "metadata": {},
   "source": [
    "## concatinating all the frames in the single dataframe"
   ]
  },
  {
   "cell_type": "code",
   "execution_count": 30,
   "metadata": {},
   "outputs": [],
   "source": [
    "frames=[df1,df2,df3,df4]"
   ]
  },
  {
   "cell_type": "code",
   "execution_count": 31,
   "metadata": {},
   "outputs": [],
   "source": [
    "df=pd.concat(frames)"
   ]
  },
  {
   "cell_type": "code",
   "execution_count": 32,
   "metadata": {},
   "outputs": [
    {
     "data": {
      "text/plain": [
       "(7349, 10)"
      ]
     },
     "execution_count": 32,
     "metadata": {},
     "output_type": "execute_result"
    }
   ],
   "source": [
    "df.shape"
   ]
  },
  {
   "cell_type": "markdown",
   "metadata": {},
   "source": [
    "## Data Cleaning Preprocessing and EDA"
   ]
  },
  {
   "cell_type": "code",
   "execution_count": 33,
   "metadata": {},
   "outputs": [
    {
     "data": {
      "text/plain": [
       "(7349, 10)"
      ]
     },
     "execution_count": 33,
     "metadata": {},
     "output_type": "execute_result"
    }
   ],
   "source": [
    "# Checking the dimensions of newly created dataset\n",
    "df.shape"
   ]
  },
  {
   "cell_type": "code",
   "execution_count": 34,
   "metadata": {},
   "outputs": [
    {
     "data": {
      "text/plain": [
       "Unnamed: 0             int64\n",
       "Brand                 object\n",
       "Model                 object\n",
       "Variant               object\n",
       "Manufacturing_year     int64\n",
       "Driven_kilometers     object\n",
       "Fuel                  object\n",
       "number_of_owners      object\n",
       "location              object\n",
       "Price                 object\n",
       "dtype: object"
      ]
     },
     "execution_count": 34,
     "metadata": {},
     "output_type": "execute_result"
    }
   ],
   "source": [
    "# checking the datatypes\n",
    "df.dtypes"
   ]
  },
  {
   "cell_type": "markdown",
   "metadata": {},
   "source": [
    "here it can be observed that \n",
    "\n",
    "* Unnamed:0 is the count column so we can drop it.\n",
    "    \n",
    "* Driven_kilometers should be in integer format  but here it is in object format\n",
    "\n",
    "* price column should also be in integer format  but here it is in object format\n"
   ]
  },
  {
   "cell_type": "markdown",
   "metadata": {},
   "source": [
    "# Cleaning Preprocessing and Visualizing Data"
   ]
  },
  {
   "cell_type": "code",
   "execution_count": 35,
   "metadata": {},
   "outputs": [],
   "source": [
    "df.drop('Unnamed: 0',axis=1,inplace=True)"
   ]
  },
  {
   "cell_type": "code",
   "execution_count": 36,
   "metadata": {},
   "outputs": [
    {
     "data": {
      "text/plain": [
       "(7349, 9)"
      ]
     },
     "execution_count": 36,
     "metadata": {},
     "output_type": "execute_result"
    }
   ],
   "source": [
    "df.shape"
   ]
  },
  {
   "cell_type": "code",
   "execution_count": 37,
   "metadata": {},
   "outputs": [
    {
     "data": {
      "text/html": [
       "<div>\n",
       "<style scoped>\n",
       "    .dataframe tbody tr th:only-of-type {\n",
       "        vertical-align: middle;\n",
       "    }\n",
       "\n",
       "    .dataframe tbody tr th {\n",
       "        vertical-align: top;\n",
       "    }\n",
       "\n",
       "    .dataframe thead th {\n",
       "        text-align: right;\n",
       "    }\n",
       "</style>\n",
       "<table border=\"1\" class=\"dataframe\">\n",
       "  <thead>\n",
       "    <tr style=\"text-align: right;\">\n",
       "      <th></th>\n",
       "      <th>Brand</th>\n",
       "      <th>Model</th>\n",
       "      <th>Variant</th>\n",
       "      <th>Manufacturing_year</th>\n",
       "      <th>Driven_kilometers</th>\n",
       "      <th>Fuel</th>\n",
       "      <th>number_of_owners</th>\n",
       "      <th>location</th>\n",
       "      <th>Price</th>\n",
       "    </tr>\n",
       "  </thead>\n",
       "  <tbody>\n",
       "    <tr>\n",
       "      <th>0</th>\n",
       "      <td>Maruti</td>\n",
       "      <td>Eeco</td>\n",
       "      <td>5 Seater AC BSIV</td>\n",
       "      <td>2019</td>\n",
       "      <td>14,161 Kms</td>\n",
       "      <td>Petrol</td>\n",
       "      <td>1st Owner</td>\n",
       "      <td>Ahmedabad</td>\n",
       "      <td>₹ 4,48,500</td>\n",
       "    </tr>\n",
       "    <tr>\n",
       "      <th>1</th>\n",
       "      <td>Maruti</td>\n",
       "      <td>Eeco</td>\n",
       "      <td>5 Seater AC</td>\n",
       "      <td>2020</td>\n",
       "      <td>17,116 Kms</td>\n",
       "      <td>Petrol</td>\n",
       "      <td>1st Owner</td>\n",
       "      <td>Ahmedabad</td>\n",
       "      <td>₹ 4,74,500</td>\n",
       "    </tr>\n",
       "    <tr>\n",
       "      <th>2</th>\n",
       "      <td>Maruti</td>\n",
       "      <td>S-Presso</td>\n",
       "      <td>VXI</td>\n",
       "      <td>2019</td>\n",
       "      <td>24,230 Kms</td>\n",
       "      <td>Petrol</td>\n",
       "      <td>1st Owner</td>\n",
       "      <td>Ahmedabad</td>\n",
       "      <td>₹ 4,15,500</td>\n",
       "    </tr>\n",
       "    <tr>\n",
       "      <th>3</th>\n",
       "      <td>Maruti</td>\n",
       "      <td>Eeco</td>\n",
       "      <td>5 Seater AC</td>\n",
       "      <td>2012</td>\n",
       "      <td>57,341 Kms</td>\n",
       "      <td>Petrol</td>\n",
       "      <td>1st Owner</td>\n",
       "      <td>Ahmedabad</td>\n",
       "      <td>₹ 2,73,500</td>\n",
       "    </tr>\n",
       "    <tr>\n",
       "      <th>4</th>\n",
       "      <td>Maruti</td>\n",
       "      <td>Baleno</td>\n",
       "      <td>1.2 Delta</td>\n",
       "      <td>2016</td>\n",
       "      <td>51,069 Kms</td>\n",
       "      <td>Petrol</td>\n",
       "      <td>1st Owner</td>\n",
       "      <td>Ahmedabad</td>\n",
       "      <td>₹ 5,39,000</td>\n",
       "    </tr>\n",
       "  </tbody>\n",
       "</table>\n",
       "</div>"
      ],
      "text/plain": [
       "    Brand     Model           Variant  Manufacturing_year Driven_kilometers  \\\n",
       "0  Maruti      Eeco  5 Seater AC BSIV                2019        14,161 Kms   \n",
       "1  Maruti      Eeco       5 Seater AC                2020        17,116 Kms   \n",
       "2  Maruti  S-Presso               VXI                2019        24,230 Kms   \n",
       "3  Maruti      Eeco       5 Seater AC                2012        57,341 Kms   \n",
       "4  Maruti    Baleno         1.2 Delta                2016        51,069 Kms   \n",
       "\n",
       "     Fuel number_of_owners   location       Price  \n",
       "0  Petrol        1st Owner  Ahmedabad  ₹ 4,48,500  \n",
       "1  Petrol        1st Owner  Ahmedabad  ₹ 4,74,500  \n",
       "2  Petrol        1st Owner  Ahmedabad  ₹ 4,15,500  \n",
       "3  Petrol        1st Owner  Ahmedabad  ₹ 2,73,500  \n",
       "4  Petrol        1st Owner  Ahmedabad  ₹ 5,39,000  "
      ]
     },
     "execution_count": 37,
     "metadata": {},
     "output_type": "execute_result"
    }
   ],
   "source": [
    "df.head(5)"
   ]
  },
  {
   "cell_type": "code",
   "execution_count": 38,
   "metadata": {},
   "outputs": [
    {
     "name": "stdout",
     "output_type": "stream",
     "text": [
      "Maruti           1995\n",
      "Hyundai          1401\n",
      "Honda             670\n",
      "Toyota            567\n",
      "Mahindra          419\n",
      "Ford              356\n",
      "Volkswagen        285\n",
      "Mercedes-Benz     264\n",
      "BMW               218\n",
      "Renault           216\n",
      "Audi              171\n",
      "Tata              168\n",
      "Skoda             123\n",
      "Chevrolet         112\n",
      "Nissan             78\n",
      "Land               40\n",
      "Kia                35\n",
      "Volvo              35\n",
      "Jaguar             34\n",
      "Datsun             33\n",
      "Fiat               29\n",
      "Jeep               25\n",
      "MG                 22\n",
      "Mitsubishi         14\n",
      "Mini               13\n",
      "Porsche            13\n",
      "Bentley             4\n",
      "Lexus               3\n",
      "Isuzu               2\n",
      "Hindustan           1\n",
      "Ambassador          1\n",
      "Premier             1\n",
      "OpelCorsa           1\n",
      "Name: Brand, dtype: int64\n"
     ]
    },
    {
     "data": {
      "image/png": "[encoded data removed]",
      "text/plain": [
       "<Figure size 432x288 with 1 Axes>"
      ]
     },
     "metadata": {
      "needs_background": "light"
     },
     "output_type": "display_data"
    }
   ],
   "source": [
    "print(df['Brand'].value_counts())\n",
    "p=sns.countplot(df['Brand'])\n",
    "p.set_xticklabels(p.get_xticklabels(),rotation=90)\n",
    "plt.show()\n"
   ]
  },
  {
   "cell_type": "markdown",
   "metadata": {},
   "source": [
    "Maruti and Hyundai company have higghest number of cars for reselling and Brands like Hindustan ,Premier ,OpelCorsa ,Ambassador  have only 1 car for reselling"
   ]
  },
  {
   "cell_type": "code",
   "execution_count": 39,
   "metadata": {},
   "outputs": [
    {
     "name": "stdout",
     "output_type": "stream",
     "text": [
      "2017    885\n",
      "2016    824\n",
      "2018    742\n",
      "2015    726\n",
      "2014    691\n",
      "2013    643\n",
      "2012    634\n",
      "2011    493\n",
      "2019    482\n",
      "2010    344\n",
      "2009    204\n",
      "2020    178\n",
      "2008    163\n",
      "2007    129\n",
      "2006     86\n",
      "2021     35\n",
      "2005     33\n",
      "2004     20\n",
      "2003     12\n",
      "2000     10\n",
      "2001      7\n",
      "1997      3\n",
      "1999      2\n",
      "1989      1\n",
      "1995      1\n",
      "2002      1\n",
      "Name: Manufacturing_year, dtype: int64\n"
     ]
    },
    {
     "data": {
      "image/png": "[encoded data removed]",
      "text/plain": [
       "<Figure size 432x288 with 1 Axes>"
      ]
     },
     "metadata": {
      "needs_background": "light"
     },
     "output_type": "display_data"
    }
   ],
   "source": [
    "print(df['Manufacturing_year'].value_counts())\n",
    "p=sns.countplot(df['Manufacturing_year'])\n",
    "p.set_xticklabels(p.get_xticklabels(),rotation=90)\n",
    "plt.show()\n"
   ]
  },
  {
   "cell_type": "markdown",
   "metadata": {},
   "source": [
    "recently built cars of year like 2017, 2016 have highest numbers of car for reselling and old models or old cars have less number of cars for reselling"
   ]
  },
  {
   "cell_type": "code",
   "execution_count": 40,
   "metadata": {},
   "outputs": [
    {
     "data": {
      "text/plain": [
       "70,000 kms    250\n",
       "80,000 kms    241\n",
       "60,000 kms    233\n",
       "90,000 kms    139\n",
       "35,000 kms    133\n",
       "             ... \n",
       "3,001 kms       1\n",
       "63,155 kms      1\n",
       "84,026 kms      1\n",
       "6,950 kms       1\n",
       "65,395 Kms      1\n",
       "Name: Driven_kilometers, Length: 1781, dtype: int64"
      ]
     },
     "execution_count": 40,
     "metadata": {},
     "output_type": "execute_result"
    }
   ],
   "source": [
    "df['Driven_kilometers'].value_counts()"
   ]
  },
  {
   "cell_type": "markdown",
   "metadata": {},
   "source": [
    "many cars have driven upto 80,00 kms and some cars which have driven kilometer if 2,06,500 kms are aslo for reselling"
   ]
  },
  {
   "cell_type": "code",
   "execution_count": 41,
   "metadata": {},
   "outputs": [],
   "source": [
    "# Cleaning Driven kilometer column"
   ]
  },
  {
   "cell_type": "code",
   "execution_count": 42,
   "metadata": {},
   "outputs": [],
   "source": [
    "# removing Kms from the column\n",
    "df['Driven_kilometers']=df['Driven_kilometers'].str.replace('kms',' ')\n",
    "df['Driven_kilometers']=df['Driven_kilometers'].str.replace('Kms',' ')\n",
    "df['Driven_kilometers']=df['Driven_kilometers'].str.replace(',','')\n",
    "df['Driven_kilometers']=df['Driven_kilometers'].str.replace('Lakh','00000')\n",
    "df['Driven_kilometers']=df['Driven_kilometers'].str.replace(' ','')"
   ]
  },
  {
   "cell_type": "code",
   "execution_count": 43,
   "metadata": {},
   "outputs": [],
   "source": [
    "# converting  object column to integer  column\n",
    "df['Driven_kilometers']=df['Driven_kilometers'].astype(int)"
   ]
  },
  {
   "cell_type": "code",
   "execution_count": 44,
   "metadata": {},
   "outputs": [
    {
     "data": {
      "text/plain": [
       "70000     250\n",
       "80000     241\n",
       "60000     233\n",
       "90000     140\n",
       "120000    137\n",
       "         ... \n",
       "95100       1\n",
       "48001       1\n",
       "64325       1\n",
       "9110        1\n",
       "8200        1\n",
       "Name: Driven_kilometers, Length: 1759, dtype: int64"
      ]
     },
     "execution_count": 44,
     "metadata": {},
     "output_type": "execute_result"
    }
   ],
   "source": [
    "df['Driven_kilometers'].value_counts()"
   ]
  },
  {
   "cell_type": "code",
   "execution_count": 45,
   "metadata": {},
   "outputs": [
    {
     "data": {
      "text/plain": [
       "<AxesSubplot:>"
      ]
     },
     "execution_count": 45,
     "metadata": {},
     "output_type": "execute_result"
    },
    {
     "data": {
      "image/png": "[encoded data removed]",
      "text/plain": [
       "<Figure size 432x288 with 1 Axes>"
      ]
     },
     "metadata": {
      "needs_background": "light"
     },
     "output_type": "display_data"
    }
   ],
   "source": [
    "df['Driven_kilometers'].hist(bins=50)"
   ]
  },
  {
   "cell_type": "code",
   "execution_count": 46,
   "metadata": {},
   "outputs": [
    {
     "data": {
      "text/plain": [
       "First Owner             4991\n",
       "Second Owner            1602\n",
       "1st Owner                344\n",
       "Third Owner              271\n",
       "2nd Owner                 83\n",
       "Fourth & Above Owner      50\n",
       "Test Drive Car             6\n",
       "3rd Owner                  1\n",
       "4th Owner                  1\n",
       "Name: number_of_owners, dtype: int64"
      ]
     },
     "execution_count": 46,
     "metadata": {},
     "output_type": "execute_result"
    }
   ],
   "source": [
    "df['number_of_owners'].value_counts()"
   ]
  },
  {
   "cell_type": "code",
   "execution_count": 47,
   "metadata": {},
   "outputs": [],
   "source": [
    "#renaming values\n",
    "df['number_of_owners']=df['number_of_owners'].str.replace('1st Owner','First Owner')\n",
    "df['number_of_owners']=df['number_of_owners'].str.replace('2nd Owner','Second Owner')\n",
    "df['number_of_owners']=df['number_of_owners'].str.replace('3rd Owner','Third Owner')"
   ]
  },
  {
   "cell_type": "code",
   "execution_count": 48,
   "metadata": {},
   "outputs": [
    {
     "data": {
      "text/plain": [
       "First Owner             5335\n",
       "Second Owner            1685\n",
       "Third Owner              272\n",
       "Fourth & Above Owner      50\n",
       "Test Drive Car             6\n",
       "4th Owner                  1\n",
       "Name: number_of_owners, dtype: int64"
      ]
     },
     "execution_count": 48,
     "metadata": {},
     "output_type": "execute_result"
    }
   ],
   "source": [
    "df['number_of_owners'].value_counts()"
   ]
  },
  {
   "cell_type": "code",
   "execution_count": 49,
   "metadata": {},
   "outputs": [
    {
     "name": "stdout",
     "output_type": "stream",
     "text": [
      "First Owner             5335\n",
      "Second Owner            1685\n",
      "Third Owner              272\n",
      "Fourth & Above Owner      50\n",
      "Test Drive Car             6\n",
      "4th Owner                  1\n",
      "Name: number_of_owners, dtype: int64\n"
     ]
    },
    {
     "data": {
      "image/png": "[encoded data removed]",
      "text/plain": [
       "<Figure size 432x288 with 1 Axes>"
      ]
     },
     "metadata": {
      "needs_background": "light"
     },
     "output_type": "display_data"
    }
   ],
   "source": [
    "print(df['number_of_owners'].value_counts())\n",
    "p=sns.countplot(df['number_of_owners'])\n",
    "p.set_xticklabels(p.get_xticklabels(),rotation=90)\n",
    "plt.show()\n"
   ]
  },
  {
   "cell_type": "markdown",
   "metadata": {},
   "source": [
    "5335 cars that are offered for reselling are used by only one owner, 1685 cars are of second owner, 272 cars are offered by third owner\n",
    ", 50 cars are offered by fourth and above owner 6 cars are of test Drive and only one car is shared by 4th owner"
   ]
  },
  {
   "cell_type": "code",
   "execution_count": 50,
   "metadata": {},
   "outputs": [
    {
     "data": {
      "text/plain": [
       "3.5 0 000     138\n",
       "4.5 0 000     114\n",
       "3.25 000      101\n",
       "5.5 0 000      95\n",
       "6.5 0 000      94\n",
       "             ... \n",
       "12.45 000       1\n",
       "1.64 000        1\n",
       "₹ 6,70,953      1\n",
       "80 00000        1\n",
       "80,031*         1\n",
       "Name: Price, Length: 1103, dtype: int64"
      ]
     },
     "execution_count": 50,
     "metadata": {},
     "output_type": "execute_result"
    }
   ],
   "source": [
    "df['Price'].value_counts()"
   ]
  },
  {
   "cell_type": "code",
   "execution_count": null,
   "metadata": {},
   "outputs": [],
   "source": []
  },
  {
   "cell_type": "code",
   "execution_count": 51,
   "metadata": {},
   "outputs": [],
   "source": [
    "# cleaning the price column\n",
    "df['Price']=df['Price'].str.replace('Lakh*','000')\n",
    "df['Price']=df['Price'].str.replace('.','')\n",
    "df['Price']=df['Price'].str.replace('*','')\n",
    "df['Price']=df['Price'].str.replace('₹','')\n",
    "df['Price']=df['Price'].str.replace(',','')\n",
    "df['Price']=df['Price'].str.replace(' ','')\n",
    "df['Price']=df['Price'].str.replace('Cr','000000')"
   ]
  },
  {
   "cell_type": "code",
   "execution_count": 52,
   "metadata": {},
   "outputs": [],
   "source": [
    "# typecasting the price column\n",
    "df['Price']=df['Price'].astype('int64')"
   ]
  },
  {
   "cell_type": "code",
   "execution_count": 53,
   "metadata": {},
   "outputs": [
    {
     "data": {
      "text/plain": [
       "0    448500\n",
       "1    474500\n",
       "2    415500\n",
       "3    273500\n",
       "4    539000\n",
       "Name: Price, dtype: int64"
      ]
     },
     "execution_count": 53,
     "metadata": {},
     "output_type": "execute_result"
    }
   ],
   "source": [
    "df['Price'].head()"
   ]
  },
  {
   "cell_type": "code",
   "execution_count": null,
   "metadata": {},
   "outputs": [],
   "source": []
  },
  {
   "cell_type": "code",
   "execution_count": 54,
   "metadata": {},
   "outputs": [
    {
     "name": "stdout",
     "output_type": "stream",
     "text": [
      "VXI                       112\n",
      "VDI                       104\n",
      "LXi                        58\n",
      "Magna                      52\n",
      "Sportz                     51\n",
      "                         ... \n",
      "SX Opt Dual Tone Turbo      1\n",
      "1.0 TSI Highline Plus       1\n",
      "Countryman D                1\n",
      "280 Elegance                1\n",
      "A EPS                       1\n",
      "Name: Variant, Length: 1839, dtype: int64\n"
     ]
    },
    {
     "data": {
      "image/png": "[encoded data removed]",
      "text/plain": [
       "<Figure size 432x288 with 1 Axes>"
      ]
     },
     "metadata": {
      "needs_background": "light"
     },
     "output_type": "display_data"
    }
   ],
   "source": [
    "print(df['Variant'].value_counts())\n",
    "p=sns.countplot(df['Variant'])\n",
    "p.set_xticklabels(p.get_xticklabels(),rotation=90)\n",
    "plt.show()\n"
   ]
  },
  {
   "cell_type": "markdown",
   "metadata": {},
   "source": [
    "It is highly impossible to get any data through the this countplot, it simply means there are high variety of variants in the dataset"
   ]
  },
  {
   "cell_type": "markdown",
   "metadata": {},
   "source": [
    "## Bivariate Analysis of all columns with TARGET column"
   ]
  },
  {
   "cell_type": "markdown",
   "metadata": {},
   "source": [
    "## Analyzing Numerical Columns"
   ]
  },
  {
   "cell_type": "code",
   "execution_count": 55,
   "metadata": {},
   "outputs": [
    {
     "data": {
      "text/plain": [
       "Brand                 object\n",
       "Model                 object\n",
       "Variant               object\n",
       "Manufacturing_year     int64\n",
       "Driven_kilometers      int32\n",
       "Fuel                  object\n",
       "number_of_owners      object\n",
       "location              object\n",
       "Price                  int64\n",
       "dtype: object"
      ]
     },
     "execution_count": 55,
     "metadata": {},
     "output_type": "execute_result"
    }
   ],
   "source": [
    "df.dtypes"
   ]
  },
  {
   "cell_type": "markdown",
   "metadata": {},
   "source": [
    "##### Manufacturing_year, Driven_kilometers and Price are only numerical columns id the dataset"
   ]
  },
  {
   "cell_type": "code",
   "execution_count": 56,
   "metadata": {},
   "outputs": [
    {
     "data": {
      "text/plain": [
       "<seaborn.axisgrid.JointGrid at 0x20dce62ca30>"
      ]
     },
     "execution_count": 56,
     "metadata": {},
     "output_type": "execute_result"
    },
    {
     "data": {
      "image/png": "[encoded data removed]",
      "text/plain": [
       "<Figure size 432x432 with 3 Axes>"
      ]
     },
     "metadata": {
      "needs_background": "light"
     },
     "output_type": "display_data"
    }
   ],
   "source": [
    "sns.jointplot(x='Manufacturing_year',y='Price',data=df,kind='reg')"
   ]
  },
  {
   "cell_type": "markdown",
   "metadata": {},
   "source": [
    "Manufacturing Year is showing left skewed data and it is highly posssible as we have seen in the data that old car models are also offered for sale  and  as it showing no direct relation with the sale means both are increasing with  same ratio"
   ]
  },
  {
   "cell_type": "code",
   "execution_count": 57,
   "metadata": {},
   "outputs": [
    {
     "data": {
      "text/plain": [
       "<seaborn.axisgrid.JointGrid at 0x20dd40c6640>"
      ]
     },
     "execution_count": 57,
     "metadata": {},
     "output_type": "execute_result"
    },
    {
     "data": {
      "image/png": "[encoded data removed]",
      "text/plain": [
       "<Figure size 432x432 with 3 Axes>"
      ]
     },
     "metadata": {
      "needs_background": "light"
     },
     "output_type": "display_data"
    }
   ],
   "source": [
    "sns.jointplot(x='Driven_kilometers',y='Price',data=df,kind='reg')"
   ]
  },
  {
   "cell_type": "markdown",
   "metadata": {},
   "source": [
    "It can be observed that many cars have driven kilometer if 0 to 2,00,000 and further from it less cars have driven kilometer of 250000 and more it is showing no positive relation with output data price"
   ]
  },
  {
   "cell_type": "code",
   "execution_count": 58,
   "metadata": {},
   "outputs": [
    {
     "data": {
      "text/plain": [
       "<seaborn.axisgrid.JointGrid at 0x20dd482f550>"
      ]
     },
     "execution_count": 58,
     "metadata": {},
     "output_type": "execute_result"
    },
    {
     "data": {
      "image/png": "[encoded data removed]",
      "text/plain": [
       "<Figure size 432x432 with 3 Axes>"
      ]
     },
     "metadata": {
      "needs_background": "light"
     },
     "output_type": "display_data"
    }
   ],
   "source": [
    "sns.jointplot(x='Price',y='Price',data=df,kind='reg')"
   ]
  },
  {
   "cell_type": "code",
   "execution_count": 59,
   "metadata": {},
   "outputs": [
    {
     "data": {
      "text/plain": [
       "Brand                 object\n",
       "Model                 object\n",
       "Variant               object\n",
       "Manufacturing_year     int64\n",
       "Driven_kilometers      int32\n",
       "Fuel                  object\n",
       "number_of_owners      object\n",
       "location              object\n",
       "Price                  int64\n",
       "dtype: object"
      ]
     },
     "execution_count": 59,
     "metadata": {},
     "output_type": "execute_result"
    }
   ],
   "source": [
    "df.dtypes"
   ]
  },
  {
   "cell_type": "code",
   "execution_count": 60,
   "metadata": {},
   "outputs": [
    {
     "data": {
      "image/png": "[encoded data removed]",
      "text/plain": [
       "<Figure size 360x360 with 1 Axes>"
      ]
     },
     "metadata": {
      "needs_background": "light"
     },
     "output_type": "display_data"
    }
   ],
   "source": [
    "p=sns.catplot(x='Brand', y=\"Price\", kind=\"bar\", data=df)\n",
    "\n"
   ]
  },
  {
   "cell_type": "markdown",
   "metadata": {},
   "source": [
    "As there are many brands it cannot be said that which brand has highest selling price by looking at the figure"
   ]
  },
  {
   "cell_type": "code",
   "execution_count": 61,
   "metadata": {},
   "outputs": [
    {
     "data": {
      "text/plain": [
       "<seaborn.axisgrid.FacetGrid at 0x20dde750640>"
      ]
     },
     "execution_count": 61,
     "metadata": {},
     "output_type": "execute_result"
    },
    {
     "data": {
      "image/png": "[encoded data removed]",
      "text/plain": [
       "<Figure size 360x360 with 1 Axes>"
      ]
     },
     "metadata": {
      "needs_background": "light"
     },
     "output_type": "display_data"
    }
   ],
   "source": [
    "sns.catplot(x='Model', y=\"Price\", kind=\"bar\", data=df)"
   ]
  },
  {
   "cell_type": "markdown",
   "metadata": {},
   "source": [
    "Just like Brand models are also many in numbers and it cannnot be figured out which has highest reselling value"
   ]
  },
  {
   "cell_type": "code",
   "execution_count": 62,
   "metadata": {},
   "outputs": [
    {
     "data": {
      "image/png": "[encoded data removed]",
      "text/plain": [
       "<Figure size 360x360 with 1 Axes>"
      ]
     },
     "metadata": {
      "needs_background": "light"
     },
     "output_type": "display_data"
    }
   ],
   "source": [
    "p=sns.catplot(x='Fuel', y=\"Price\", kind=\"bar\", data=df)"
   ]
  },
  {
   "cell_type": "markdown",
   "metadata": {},
   "source": [
    "The car which have fuel type as Diesel has highest reselling value followed by Petrol then electric , then CNG and finally LPG"
   ]
  },
  {
   "cell_type": "code",
   "execution_count": 63,
   "metadata": {},
   "outputs": [
    {
     "name": "stdout",
     "output_type": "stream",
     "text": [
      "First Owner             5335\n",
      "Second Owner            1685\n",
      "Third Owner              272\n",
      "Fourth & Above Owner      50\n",
      "Test Drive Car             6\n",
      "4th Owner                  1\n",
      "Name: number_of_owners, dtype: int64\n"
     ]
    },
    {
     "data": {
      "image/png": "[encoded data removed]",
      "text/plain": [
       "<Figure size 360x360 with 1 Axes>"
      ]
     },
     "metadata": {
      "needs_background": "light"
     },
     "output_type": "display_data"
    }
   ],
   "source": [
    "p=sns.catplot(x='number_of_owners', y=\"Price\", kind=\"bar\", data=df)\n",
    "print(df['number_of_owners'].value_counts())"
   ]
  },
  {
   "cell_type": "markdown",
   "metadata": {},
   "source": [
    "it can be observed that tjhough there is highest number of First owner second owner lillte lesss number of Third ownner, very few numbr of fourth and above owner still Test drive car has highest reselling sale value."
   ]
  },
  {
   "cell_type": "code",
   "execution_count": 64,
   "metadata": {},
   "outputs": [
    {
     "data": {
      "image/png": "[encoded data removed]",
      "text/plain": [
       "<Figure size 360x360 with 1 Axes>"
      ]
     },
     "metadata": {
      "needs_background": "light"
     },
     "output_type": "display_data"
    }
   ],
   "source": [
    "p=sns.catplot(x='location', y=\"Price\", kind=\"bar\", data=df)\n"
   ]
  },
  {
   "cell_type": "markdown",
   "metadata": {},
   "source": [
    "it can be observed that cars sold in delhi and Banglore have highest reselling value as compared to theb ahmedabad and chennai"
   ]
  },
  {
   "cell_type": "markdown",
   "metadata": {},
   "source": [
    "# Statistical Description"
   ]
  },
  {
   "cell_type": "code",
   "execution_count": 65,
   "metadata": {},
   "outputs": [
    {
     "data": {
      "text/html": [
       "<div>\n",
       "<style scoped>\n",
       "    .dataframe tbody tr th:only-of-type {\n",
       "        vertical-align: middle;\n",
       "    }\n",
       "\n",
       "    .dataframe tbody tr th {\n",
       "        vertical-align: top;\n",
       "    }\n",
       "\n",
       "    .dataframe thead th {\n",
       "        text-align: right;\n",
       "    }\n",
       "</style>\n",
       "<table border=\"1\" class=\"dataframe\">\n",
       "  <thead>\n",
       "    <tr style=\"text-align: right;\">\n",
       "      <th></th>\n",
       "      <th>Brand</th>\n",
       "      <th>Model</th>\n",
       "      <th>Variant</th>\n",
       "      <th>Manufacturing_year</th>\n",
       "      <th>Driven_kilometers</th>\n",
       "      <th>Fuel</th>\n",
       "      <th>number_of_owners</th>\n",
       "      <th>location</th>\n",
       "      <th>Price</th>\n",
       "    </tr>\n",
       "  </thead>\n",
       "  <tbody>\n",
       "    <tr>\n",
       "      <th>count</th>\n",
       "      <td>7349</td>\n",
       "      <td>7349</td>\n",
       "      <td>7349</td>\n",
       "      <td>7349.000000</td>\n",
       "      <td>7349.000000</td>\n",
       "      <td>7349</td>\n",
       "      <td>7349</td>\n",
       "      <td>7349</td>\n",
       "      <td>7.349000e+03</td>\n",
       "    </tr>\n",
       "    <tr>\n",
       "      <th>unique</th>\n",
       "      <td>33</td>\n",
       "      <td>220</td>\n",
       "      <td>1839</td>\n",
       "      <td>NaN</td>\n",
       "      <td>NaN</td>\n",
       "      <td>5</td>\n",
       "      <td>6</td>\n",
       "      <td>4</td>\n",
       "      <td>NaN</td>\n",
       "    </tr>\n",
       "    <tr>\n",
       "      <th>top</th>\n",
       "      <td>Maruti</td>\n",
       "      <td>Swift</td>\n",
       "      <td>VXI</td>\n",
       "      <td>NaN</td>\n",
       "      <td>NaN</td>\n",
       "      <td>Petrol</td>\n",
       "      <td>First Owner</td>\n",
       "      <td>delhi</td>\n",
       "      <td>NaN</td>\n",
       "    </tr>\n",
       "    <tr>\n",
       "      <th>freq</th>\n",
       "      <td>1995</td>\n",
       "      <td>567</td>\n",
       "      <td>112</td>\n",
       "      <td>NaN</td>\n",
       "      <td>NaN</td>\n",
       "      <td>3854</td>\n",
       "      <td>5335</td>\n",
       "      <td>3400</td>\n",
       "      <td>NaN</td>\n",
       "    </tr>\n",
       "    <tr>\n",
       "      <th>mean</th>\n",
       "      <td>NaN</td>\n",
       "      <td>NaN</td>\n",
       "      <td>NaN</td>\n",
       "      <td>2014.322221</td>\n",
       "      <td>59412.265887</td>\n",
       "      <td>NaN</td>\n",
       "      <td>NaN</td>\n",
       "      <td>NaN</td>\n",
       "      <td>1.013368e+06</td>\n",
       "    </tr>\n",
       "    <tr>\n",
       "      <th>std</th>\n",
       "      <td>NaN</td>\n",
       "      <td>NaN</td>\n",
       "      <td>NaN</td>\n",
       "      <td>3.517144</td>\n",
       "      <td>37194.286482</td>\n",
       "      <td>NaN</td>\n",
       "      <td>NaN</td>\n",
       "      <td>NaN</td>\n",
       "      <td>4.731651e+06</td>\n",
       "    </tr>\n",
       "    <tr>\n",
       "      <th>min</th>\n",
       "      <td>NaN</td>\n",
       "      <td>NaN</td>\n",
       "      <td>NaN</td>\n",
       "      <td>1989.000000</td>\n",
       "      <td>1000.000000</td>\n",
       "      <td>NaN</td>\n",
       "      <td>NaN</td>\n",
       "      <td>NaN</td>\n",
       "      <td>4.000000e+04</td>\n",
       "    </tr>\n",
       "    <tr>\n",
       "      <th>25%</th>\n",
       "      <td>NaN</td>\n",
       "      <td>NaN</td>\n",
       "      <td>NaN</td>\n",
       "      <td>2012.000000</td>\n",
       "      <td>35000.000000</td>\n",
       "      <td>NaN</td>\n",
       "      <td>NaN</td>\n",
       "      <td>NaN</td>\n",
       "      <td>3.300000e+05</td>\n",
       "    </tr>\n",
       "    <tr>\n",
       "      <th>50%</th>\n",
       "      <td>NaN</td>\n",
       "      <td>NaN</td>\n",
       "      <td>NaN</td>\n",
       "      <td>2015.000000</td>\n",
       "      <td>57000.000000</td>\n",
       "      <td>NaN</td>\n",
       "      <td>NaN</td>\n",
       "      <td>NaN</td>\n",
       "      <td>5.310000e+05</td>\n",
       "    </tr>\n",
       "    <tr>\n",
       "      <th>75%</th>\n",
       "      <td>NaN</td>\n",
       "      <td>NaN</td>\n",
       "      <td>NaN</td>\n",
       "      <td>2017.000000</td>\n",
       "      <td>77187.000000</td>\n",
       "      <td>NaN</td>\n",
       "      <td>NaN</td>\n",
       "      <td>NaN</td>\n",
       "      <td>8.750000e+05</td>\n",
       "    </tr>\n",
       "    <tr>\n",
       "      <th>max</th>\n",
       "      <td>NaN</td>\n",
       "      <td>NaN</td>\n",
       "      <td>NaN</td>\n",
       "      <td>2021.000000</td>\n",
       "      <td>845000.000000</td>\n",
       "      <td>NaN</td>\n",
       "      <td>NaN</td>\n",
       "      <td>NaN</td>\n",
       "      <td>2.350000e+08</td>\n",
       "    </tr>\n",
       "  </tbody>\n",
       "</table>\n",
       "</div>"
      ],
      "text/plain": [
       "         Brand  Model Variant  Manufacturing_year  Driven_kilometers    Fuel  \\\n",
       "count     7349   7349    7349         7349.000000        7349.000000    7349   \n",
       "unique      33    220    1839                 NaN                NaN       5   \n",
       "top     Maruti  Swift     VXI                 NaN                NaN  Petrol   \n",
       "freq      1995    567     112                 NaN                NaN    3854   \n",
       "mean       NaN    NaN     NaN         2014.322221       59412.265887     NaN   \n",
       "std        NaN    NaN     NaN            3.517144       37194.286482     NaN   \n",
       "min        NaN    NaN     NaN         1989.000000        1000.000000     NaN   \n",
       "25%        NaN    NaN     NaN         2012.000000       35000.000000     NaN   \n",
       "50%        NaN    NaN     NaN         2015.000000       57000.000000     NaN   \n",
       "75%        NaN    NaN     NaN         2017.000000       77187.000000     NaN   \n",
       "max        NaN    NaN     NaN         2021.000000      845000.000000     NaN   \n",
       "\n",
       "       number_of_owners location         Price  \n",
       "count              7349     7349  7.349000e+03  \n",
       "unique                6        4           NaN  \n",
       "top         First Owner    delhi           NaN  \n",
       "freq               5335     3400           NaN  \n",
       "mean                NaN      NaN  1.013368e+06  \n",
       "std                 NaN      NaN  4.731651e+06  \n",
       "min                 NaN      NaN  4.000000e+04  \n",
       "25%                 NaN      NaN  3.300000e+05  \n",
       "50%                 NaN      NaN  5.310000e+05  \n",
       "75%                 NaN      NaN  8.750000e+05  \n",
       "max                 NaN      NaN  2.350000e+08  "
      ]
     },
     "execution_count": 65,
     "metadata": {},
     "output_type": "execute_result"
    }
   ],
   "source": [
    "df.describe(include='all')"
   ]
  },
  {
   "cell_type": "markdown",
   "metadata": {},
   "source": [
    "it can be observed that on the top OF all ,\n",
    "* Brand is Maruti\n",
    "* the top model is swift ,\n",
    "*  variant is VXI \n",
    "* fuel_type is Petrol,\n",
    "*  location is delhi.\n",
    "\n",
    "\n",
    "and \n",
    "* the minimum manyfacturing year is 1989 and maximum year is 2021,\n",
    "* minimum driven kilometer is 1000 km and maximum is 845000\n",
    "* and prices vary in lakhs to crores\n"
   ]
  },
  {
   "cell_type": "markdown",
   "metadata": {},
   "source": [
    "The difference between 75% and max is remarkable showing presence of outlier in Driven kilometers and the same is observed in price but we cannot cure price"
   ]
  },
  {
   "cell_type": "markdown",
   "metadata": {},
   "source": [
    "# Finding Correlation"
   ]
  },
  {
   "cell_type": "code",
   "execution_count": 66,
   "metadata": {},
   "outputs": [],
   "source": [
    "dfcor=df.corr()"
   ]
  },
  {
   "cell_type": "code",
   "execution_count": 67,
   "metadata": {},
   "outputs": [
    {
     "data": {
      "text/plain": [
       "<AxesSubplot:>"
      ]
     },
     "execution_count": 67,
     "metadata": {},
     "output_type": "execute_result"
    },
    {
     "data": {
      "image/png": "[encoded data removed]",
      "text/plain": [
       "<Figure size 576x576 with 2 Axes>"
      ]
     },
     "metadata": {
      "needs_background": "light"
     },
     "output_type": "display_data"
    }
   ],
   "source": [
    "plt.figure(figsize=(8,8))\n",
    "sns.heatmap(dfcor,cmap='YlOrRd_r',annot=True)"
   ]
  },
  {
   "cell_type": "markdown",
   "metadata": {},
   "source": [
    "* Manufacturing_year has positive correlation with price\n",
    "* driven_kilometers have negative correlation with price\n"
   ]
  },
  {
   "cell_type": "markdown",
   "metadata": {},
   "source": [
    "## Checking For Outliers"
   ]
  },
  {
   "cell_type": "code",
   "execution_count": 68,
   "metadata": {},
   "outputs": [
    {
     "data": {
      "text/plain": [
       "<AxesSubplot:>"
      ]
     },
     "execution_count": 68,
     "metadata": {},
     "output_type": "execute_result"
    },
    {
     "data": {
      "image/png": "[encoded data removed]",
      "text/plain": [
       "<Figure size 432x288 with 1 Axes>"
      ]
     },
     "metadata": {
      "needs_background": "light"
     },
     "output_type": "display_data"
    }
   ],
   "source": [
    "df.boxplot()"
   ]
  },
  {
   "cell_type": "markdown",
   "metadata": {},
   "source": [
    "it can be seen that only Price column has an outlier, as it is an target column and there may be possibility that the used cars may include and luxury cars whose price may vary in  crores but it is necessary to treat the outliers"
   ]
  },
  {
   "cell_type": "code",
   "execution_count": 69,
   "metadata": {},
   "outputs": [
    {
     "data": {
      "text/plain": [
       "<AxesSubplot:>"
      ]
     },
     "execution_count": 69,
     "metadata": {},
     "output_type": "execute_result"
    },
    {
     "data": {
      "image/png": "[encoded data removed]",
      "text/plain": [
       "<Figure size 432x288 with 1 Axes>"
      ]
     },
     "metadata": {
      "needs_background": "light"
     },
     "output_type": "display_data"
    }
   ],
   "source": [
    "df['Manufacturing_year'].plot.box()"
   ]
  },
  {
   "cell_type": "markdown",
   "metadata": {},
   "source": [
    "There may be possibility that the old cars are offered for sale and some  models of cars can be old so we will not remove this outlier, as we aim to make dynamic and generalized model so for that our model should know about the old cars their sale value so not removing the outliers"
   ]
  },
  {
   "cell_type": "code",
   "execution_count": 70,
   "metadata": {},
   "outputs": [
    {
     "data": {
      "text/plain": [
       "<AxesSubplot:>"
      ]
     },
     "execution_count": 70,
     "metadata": {},
     "output_type": "execute_result"
    },
    {
     "data": {
      "image/png": "[encoded data removed]",
      "text/plain": [
       "<Figure size 432x288 with 1 Axes>"
      ]
     },
     "metadata": {
      "needs_background": "light"
     },
     "output_type": "display_data"
    }
   ],
   "source": [
    "df['Driven_kilometers'].plot.box()"
   ]
  },
  {
   "cell_type": "markdown",
   "metadata": {},
   "source": [
    "As driven_kilometer is showing some outlier we need to cure it to some extent.\n",
    "we will take iqr * 3 for curing outlier becausae there may be possibility that old model cars have drived alot so all the numbers that are greater than IQR * 3 will be considered as outlier and replaced with IQR * 3"
   ]
  },
  {
   "cell_type": "code",
   "execution_count": 71,
   "metadata": {},
   "outputs": [],
   "source": [
    "# lets calculate the Interquartile range to calculate the boundaries\n",
    "IQR=df.Driven_kilometers.quantile(0.75)-df.Driven_kilometers.quantile(0.25)"
   ]
  },
  {
   "cell_type": "code",
   "execution_count": 72,
   "metadata": {},
   "outputs": [
    {
     "name": "stdout",
     "output_type": "stream",
     "text": [
      "-91561.0\n",
      "203748.0\n"
     ]
    }
   ],
   "source": [
    "# extreme Outliers\n",
    "lower_bridge=df['Driven_kilometers'].quantile(0.25)-(IQR*3)\n",
    "upper_bridge=df['Driven_kilometers'].quantile(0.75)+(IQR*3)\n",
    "print(lower_bridge)\n",
    "print(upper_bridge)"
   ]
  },
  {
   "cell_type": "code",
   "execution_count": 73,
   "metadata": {},
   "outputs": [],
   "source": [
    "df.loc[df['Driven_kilometers']>=upper_bridge,'Driven_kilometers']=upper_bridge\n",
    "df.loc[df['Driven_kilometers']<=lower_bridge,'Driven_kilometers']=lower_bridge"
   ]
  },
  {
   "cell_type": "code",
   "execution_count": 74,
   "metadata": {},
   "outputs": [
    {
     "data": {
      "text/plain": [
       "<AxesSubplot:>"
      ]
     },
     "execution_count": 74,
     "metadata": {},
     "output_type": "execute_result"
    },
    {
     "data": {
      "image/png": "[encoded data removed]",
      "text/plain": [
       "<Figure size 432x288 with 1 Axes>"
      ]
     },
     "metadata": {
      "needs_background": "light"
     },
     "output_type": "display_data"
    }
   ],
   "source": [
    "df['Driven_kilometers'].plot.box()"
   ]
  },
  {
   "cell_type": "markdown",
   "metadata": {},
   "source": [
    "we had cure the outliers of Driven_kilometers"
   ]
  },
  {
   "cell_type": "markdown",
   "metadata": {},
   "source": [
    "## checking skewness"
   ]
  },
  {
   "cell_type": "code",
   "execution_count": 75,
   "metadata": {},
   "outputs": [],
   "source": [
    "df_num=df.select_dtypes(['int64','float64'])"
   ]
  },
  {
   "cell_type": "code",
   "execution_count": 76,
   "metadata": {},
   "outputs": [
    {
     "name": "stdout",
     "output_type": "stream",
     "text": [
      "Manufacturing_year -0.7422718969973269\n",
      "Driven_kilometers 1.0206968920293584\n",
      "Price 31.366990160313012\n"
     ]
    },
    {
     "data": {
      "image/png": "[encoded data removed]",
      "text/plain": [
       "<Figure size 432x288 with 1 Axes>"
      ]
     },
     "metadata": {
      "needs_background": "light"
     },
     "output_type": "display_data"
    },
    {
     "data": {
      "image/png": "[encoded data removed]",
      "text/plain": [
       "<Figure size 432x288 with 1 Axes>"
      ]
     },
     "metadata": {
      "needs_background": "light"
     },
     "output_type": "display_data"
    },
    {
     "data": {
      "image/png": "[encoded data removed]",
      "text/plain": [
       "<Figure size 432x288 with 1 Axes>"
      ]
     },
     "metadata": {
      "needs_background": "light"
     },
     "output_type": "display_data"
    }
   ],
   "source": [
    "from scipy.stats import skew\n",
    "for i in df_num:\n",
    "    \n",
    "    plt.figure()    \n",
    "    sns.distplot(df_num[i])\n",
    "    print(i,skew(df_num[i]))"
   ]
  },
  {
   "cell_type": "markdown",
   "metadata": {},
   "source": [
    "* Manufacturing_year is showing skewness because the data contains old model, so no need to remove skewness in this column\n",
    "* Driven_kilometer is not having a proper bell curve but the outliers are removed so it is not showing skewness, otherwise it may have shown righ skewness"
   ]
  },
  {
   "cell_type": "markdown",
   "metadata": {},
   "source": [
    "# Label Encoding"
   ]
  },
  {
   "cell_type": "code",
   "execution_count": 77,
   "metadata": {},
   "outputs": [],
   "source": [
    "from sklearn.preprocessing import LabelEncoder\n",
    "le=LabelEncoder()\n",
    "for i in df.columns:\n",
    "    if df[i].dtypes =='object':\n",
    "        df[i]=le.fit_transform(df[i].astype(str))"
   ]
  },
  {
   "cell_type": "code",
   "execution_count": 78,
   "metadata": {},
   "outputs": [
    {
     "data": {
      "text/html": [
       "<div>\n",
       "<style scoped>\n",
       "    .dataframe tbody tr th:only-of-type {\n",
       "        vertical-align: middle;\n",
       "    }\n",
       "\n",
       "    .dataframe tbody tr th {\n",
       "        vertical-align: top;\n",
       "    }\n",
       "\n",
       "    .dataframe thead th {\n",
       "        text-align: right;\n",
       "    }\n",
       "</style>\n",
       "<table border=\"1\" class=\"dataframe\">\n",
       "  <thead>\n",
       "    <tr style=\"text-align: right;\">\n",
       "      <th></th>\n",
       "      <th>Brand</th>\n",
       "      <th>Model</th>\n",
       "      <th>Variant</th>\n",
       "      <th>Manufacturing_year</th>\n",
       "      <th>Driven_kilometers</th>\n",
       "      <th>Fuel</th>\n",
       "      <th>number_of_owners</th>\n",
       "      <th>Price</th>\n",
       "    </tr>\n",
       "  </thead>\n",
       "  <tbody>\n",
       "    <tr>\n",
       "      <th>0</th>\n",
       "      <td>19</td>\n",
       "      <td>57</td>\n",
       "      <td>598</td>\n",
       "      <td>2019</td>\n",
       "      <td>14161.0</td>\n",
       "      <td>4</td>\n",
       "      <td>1</td>\n",
       "      <td>448500</td>\n",
       "    </tr>\n",
       "    <tr>\n",
       "      <th>1</th>\n",
       "      <td>19</td>\n",
       "      <td>57</td>\n",
       "      <td>597</td>\n",
       "      <td>2020</td>\n",
       "      <td>17116.0</td>\n",
       "      <td>4</td>\n",
       "      <td>1</td>\n",
       "      <td>474500</td>\n",
       "    </tr>\n",
       "    <tr>\n",
       "      <th>2</th>\n",
       "      <td>19</td>\n",
       "      <td>149</td>\n",
       "      <td>1586</td>\n",
       "      <td>2019</td>\n",
       "      <td>24230.0</td>\n",
       "      <td>4</td>\n",
       "      <td>1</td>\n",
       "      <td>415500</td>\n",
       "    </tr>\n",
       "    <tr>\n",
       "      <th>3</th>\n",
       "      <td>19</td>\n",
       "      <td>57</td>\n",
       "      <td>597</td>\n",
       "      <td>2012</td>\n",
       "      <td>57341.0</td>\n",
       "      <td>4</td>\n",
       "      <td>1</td>\n",
       "      <td>273500</td>\n",
       "    </tr>\n",
       "    <tr>\n",
       "      <th>4</th>\n",
       "      <td>19</td>\n",
       "      <td>24</td>\n",
       "      <td>42</td>\n",
       "      <td>2016</td>\n",
       "      <td>51069.0</td>\n",
       "      <td>4</td>\n",
       "      <td>1</td>\n",
       "      <td>539000</td>\n",
       "    </tr>\n",
       "    <tr>\n",
       "      <th>...</th>\n",
       "      <td>...</td>\n",
       "      <td>...</td>\n",
       "      <td>...</td>\n",
       "      <td>...</td>\n",
       "      <td>...</td>\n",
       "      <td>...</td>\n",
       "      <td>...</td>\n",
       "      <td>...</td>\n",
       "    </tr>\n",
       "    <tr>\n",
       "      <th>3395</th>\n",
       "      <td>18</td>\n",
       "      <td>160</td>\n",
       "      <td>1368</td>\n",
       "      <td>2018</td>\n",
       "      <td>25000.0</td>\n",
       "      <td>1</td>\n",
       "      <td>1</td>\n",
       "      <td>1475000</td>\n",
       "    </tr>\n",
       "    <tr>\n",
       "      <th>3396</th>\n",
       "      <td>19</td>\n",
       "      <td>169</td>\n",
       "      <td>947</td>\n",
       "      <td>2020</td>\n",
       "      <td>40000.0</td>\n",
       "      <td>0</td>\n",
       "      <td>1</td>\n",
       "      <td>590000</td>\n",
       "    </tr>\n",
       "    <tr>\n",
       "      <th>3397</th>\n",
       "      <td>19</td>\n",
       "      <td>169</td>\n",
       "      <td>1721</td>\n",
       "      <td>2010</td>\n",
       "      <td>76400.0</td>\n",
       "      <td>4</td>\n",
       "      <td>1</td>\n",
       "      <td>225000</td>\n",
       "    </tr>\n",
       "    <tr>\n",
       "      <th>3398</th>\n",
       "      <td>1</td>\n",
       "      <td>12</td>\n",
       "      <td>565</td>\n",
       "      <td>2014</td>\n",
       "      <td>34000.0</td>\n",
       "      <td>1</td>\n",
       "      <td>1</td>\n",
       "      <td>1750000</td>\n",
       "    </tr>\n",
       "    <tr>\n",
       "      <th>3399</th>\n",
       "      <td>19</td>\n",
       "      <td>191</td>\n",
       "      <td>1586</td>\n",
       "      <td>2017</td>\n",
       "      <td>24728.0</td>\n",
       "      <td>4</td>\n",
       "      <td>1</td>\n",
       "      <td>390830</td>\n",
       "    </tr>\n",
       "  </tbody>\n",
       "</table>\n",
       "<p>7349 rows × 8 columns</p>\n",
       "</div>"
      ],
      "text/plain": [
       "      Brand  Model  Variant  Manufacturing_year  Driven_kilometers  Fuel  \\\n",
       "0        19     57      598                2019            14161.0     4   \n",
       "1        19     57      597                2020            17116.0     4   \n",
       "2        19    149     1586                2019            24230.0     4   \n",
       "3        19     57      597                2012            57341.0     4   \n",
       "4        19     24       42                2016            51069.0     4   \n",
       "...     ...    ...      ...                 ...                ...   ...   \n",
       "3395     18    160     1368                2018            25000.0     1   \n",
       "3396     19    169      947                2020            40000.0     0   \n",
       "3397     19    169     1721                2010            76400.0     4   \n",
       "3398      1     12      565                2014            34000.0     1   \n",
       "3399     19    191     1586                2017            24728.0     4   \n",
       "\n",
       "      number_of_owners    Price  \n",
       "0                    1   448500  \n",
       "1                    1   474500  \n",
       "2                    1   415500  \n",
       "3                    1   273500  \n",
       "4                    1   539000  \n",
       "...                ...      ...  \n",
       "3395                 1  1475000  \n",
       "3396                 1   590000  \n",
       "3397                 1   225000  \n",
       "3398                 1  1750000  \n",
       "3399                 1   390830  \n",
       "\n",
       "[7349 rows x 8 columns]"
      ]
     },
     "execution_count": 78,
     "metadata": {},
     "output_type": "execute_result"
    }
   ],
   "source": [
    "df.drop('location',axis=1)"
   ]
  },
  {
   "cell_type": "code",
   "execution_count": 79,
   "metadata": {},
   "outputs": [
    {
     "data": {
      "text/plain": [
       "Brand                   int32\n",
       "Model                   int32\n",
       "Variant                 int32\n",
       "Manufacturing_year      int64\n",
       "Driven_kilometers     float64\n",
       "Fuel                    int32\n",
       "number_of_owners        int32\n",
       "location                int32\n",
       "Price                   int64\n",
       "dtype: object"
      ]
     },
     "execution_count": 79,
     "metadata": {},
     "output_type": "execute_result"
    }
   ],
   "source": [
    "df.dtypes"
   ]
  },
  {
   "cell_type": "code",
   "execution_count": 80,
   "metadata": {},
   "outputs": [
    {
     "data": {
      "text/html": [
       "<div>\n",
       "<style scoped>\n",
       "    .dataframe tbody tr th:only-of-type {\n",
       "        vertical-align: middle;\n",
       "    }\n",
       "\n",
       "    .dataframe tbody tr th {\n",
       "        vertical-align: top;\n",
       "    }\n",
       "\n",
       "    .dataframe thead th {\n",
       "        text-align: right;\n",
       "    }\n",
       "</style>\n",
       "<table border=\"1\" class=\"dataframe\">\n",
       "  <thead>\n",
       "    <tr style=\"text-align: right;\">\n",
       "      <th></th>\n",
       "      <th>Brand</th>\n",
       "      <th>Model</th>\n",
       "      <th>Variant</th>\n",
       "      <th>Manufacturing_year</th>\n",
       "      <th>Driven_kilometers</th>\n",
       "      <th>Fuel</th>\n",
       "      <th>number_of_owners</th>\n",
       "      <th>location</th>\n",
       "      <th>Price</th>\n",
       "    </tr>\n",
       "  </thead>\n",
       "  <tbody>\n",
       "    <tr>\n",
       "      <th>0</th>\n",
       "      <td>19</td>\n",
       "      <td>57</td>\n",
       "      <td>598</td>\n",
       "      <td>2019</td>\n",
       "      <td>14161.0</td>\n",
       "      <td>4</td>\n",
       "      <td>1</td>\n",
       "      <td>0</td>\n",
       "      <td>448500</td>\n",
       "    </tr>\n",
       "    <tr>\n",
       "      <th>1</th>\n",
       "      <td>19</td>\n",
       "      <td>57</td>\n",
       "      <td>597</td>\n",
       "      <td>2020</td>\n",
       "      <td>17116.0</td>\n",
       "      <td>4</td>\n",
       "      <td>1</td>\n",
       "      <td>0</td>\n",
       "      <td>474500</td>\n",
       "    </tr>\n",
       "    <tr>\n",
       "      <th>2</th>\n",
       "      <td>19</td>\n",
       "      <td>149</td>\n",
       "      <td>1586</td>\n",
       "      <td>2019</td>\n",
       "      <td>24230.0</td>\n",
       "      <td>4</td>\n",
       "      <td>1</td>\n",
       "      <td>0</td>\n",
       "      <td>415500</td>\n",
       "    </tr>\n",
       "    <tr>\n",
       "      <th>3</th>\n",
       "      <td>19</td>\n",
       "      <td>57</td>\n",
       "      <td>597</td>\n",
       "      <td>2012</td>\n",
       "      <td>57341.0</td>\n",
       "      <td>4</td>\n",
       "      <td>1</td>\n",
       "      <td>0</td>\n",
       "      <td>273500</td>\n",
       "    </tr>\n",
       "    <tr>\n",
       "      <th>4</th>\n",
       "      <td>19</td>\n",
       "      <td>24</td>\n",
       "      <td>42</td>\n",
       "      <td>2016</td>\n",
       "      <td>51069.0</td>\n",
       "      <td>4</td>\n",
       "      <td>1</td>\n",
       "      <td>0</td>\n",
       "      <td>539000</td>\n",
       "    </tr>\n",
       "  </tbody>\n",
       "</table>\n",
       "</div>"
      ],
      "text/plain": [
       "   Brand  Model  Variant  Manufacturing_year  Driven_kilometers  Fuel  \\\n",
       "0     19     57      598                2019            14161.0     4   \n",
       "1     19     57      597                2020            17116.0     4   \n",
       "2     19    149     1586                2019            24230.0     4   \n",
       "3     19     57      597                2012            57341.0     4   \n",
       "4     19     24       42                2016            51069.0     4   \n",
       "\n",
       "   number_of_owners  location   Price  \n",
       "0                 1         0  448500  \n",
       "1                 1         0  474500  \n",
       "2                 1         0  415500  \n",
       "3                 1         0  273500  \n",
       "4                 1         0  539000  "
      ]
     },
     "execution_count": 80,
     "metadata": {},
     "output_type": "execute_result"
    }
   ],
   "source": [
    "df.head()"
   ]
  },
  {
   "cell_type": "code",
   "execution_count": null,
   "metadata": {},
   "outputs": [],
   "source": []
  },
  {
   "cell_type": "code",
   "execution_count": null,
   "metadata": {},
   "outputs": [],
   "source": []
  },
  {
   "cell_type": "markdown",
   "metadata": {},
   "source": [
    "# Splitting the data for Train and Test"
   ]
  },
  {
   "cell_type": "code",
   "execution_count": 81,
   "metadata": {},
   "outputs": [],
   "source": [
    "x=df.drop('Price',axis=1)"
   ]
  },
  {
   "cell_type": "code",
   "execution_count": 82,
   "metadata": {},
   "outputs": [
    {
     "data": {
      "text/html": [
       "<div>\n",
       "<style scoped>\n",
       "    .dataframe tbody tr th:only-of-type {\n",
       "        vertical-align: middle;\n",
       "    }\n",
       "\n",
       "    .dataframe tbody tr th {\n",
       "        vertical-align: top;\n",
       "    }\n",
       "\n",
       "    .dataframe thead th {\n",
       "        text-align: right;\n",
       "    }\n",
       "</style>\n",
       "<table border=\"1\" class=\"dataframe\">\n",
       "  <thead>\n",
       "    <tr style=\"text-align: right;\">\n",
       "      <th></th>\n",
       "      <th>Brand</th>\n",
       "      <th>Model</th>\n",
       "      <th>Variant</th>\n",
       "      <th>Manufacturing_year</th>\n",
       "      <th>Driven_kilometers</th>\n",
       "      <th>Fuel</th>\n",
       "      <th>number_of_owners</th>\n",
       "      <th>location</th>\n",
       "    </tr>\n",
       "  </thead>\n",
       "  <tbody>\n",
       "    <tr>\n",
       "      <th>0</th>\n",
       "      <td>19</td>\n",
       "      <td>57</td>\n",
       "      <td>598</td>\n",
       "      <td>2019</td>\n",
       "      <td>14161.0</td>\n",
       "      <td>4</td>\n",
       "      <td>1</td>\n",
       "      <td>0</td>\n",
       "    </tr>\n",
       "    <tr>\n",
       "      <th>1</th>\n",
       "      <td>19</td>\n",
       "      <td>57</td>\n",
       "      <td>597</td>\n",
       "      <td>2020</td>\n",
       "      <td>17116.0</td>\n",
       "      <td>4</td>\n",
       "      <td>1</td>\n",
       "      <td>0</td>\n",
       "    </tr>\n",
       "    <tr>\n",
       "      <th>2</th>\n",
       "      <td>19</td>\n",
       "      <td>149</td>\n",
       "      <td>1586</td>\n",
       "      <td>2019</td>\n",
       "      <td>24230.0</td>\n",
       "      <td>4</td>\n",
       "      <td>1</td>\n",
       "      <td>0</td>\n",
       "    </tr>\n",
       "    <tr>\n",
       "      <th>3</th>\n",
       "      <td>19</td>\n",
       "      <td>57</td>\n",
       "      <td>597</td>\n",
       "      <td>2012</td>\n",
       "      <td>57341.0</td>\n",
       "      <td>4</td>\n",
       "      <td>1</td>\n",
       "      <td>0</td>\n",
       "    </tr>\n",
       "    <tr>\n",
       "      <th>4</th>\n",
       "      <td>19</td>\n",
       "      <td>24</td>\n",
       "      <td>42</td>\n",
       "      <td>2016</td>\n",
       "      <td>51069.0</td>\n",
       "      <td>4</td>\n",
       "      <td>1</td>\n",
       "      <td>0</td>\n",
       "    </tr>\n",
       "  </tbody>\n",
       "</table>\n",
       "</div>"
      ],
      "text/plain": [
       "   Brand  Model  Variant  Manufacturing_year  Driven_kilometers  Fuel  \\\n",
       "0     19     57      598                2019            14161.0     4   \n",
       "1     19     57      597                2020            17116.0     4   \n",
       "2     19    149     1586                2019            24230.0     4   \n",
       "3     19     57      597                2012            57341.0     4   \n",
       "4     19     24       42                2016            51069.0     4   \n",
       "\n",
       "   number_of_owners  location  \n",
       "0                 1         0  \n",
       "1                 1         0  \n",
       "2                 1         0  \n",
       "3                 1         0  \n",
       "4                 1         0  "
      ]
     },
     "execution_count": 82,
     "metadata": {},
     "output_type": "execute_result"
    }
   ],
   "source": [
    "x.head()"
   ]
  },
  {
   "cell_type": "markdown",
   "metadata": {},
   "source": [
    "## Normalizing the data using StandardScaler"
   ]
  },
  {
   "cell_type": "code",
   "execution_count": 83,
   "metadata": {},
   "outputs": [],
   "source": [
    "from sklearn.preprocessing import StandardScaler\n",
    "scaler=StandardScaler()\n",
    "\n",
    "x_scaled=scaler.fit_transform(x)\n",
    "x=x_scaled\n",
    "#x=pd.DataFrame(x_scaled)"
   ]
  },
  {
   "cell_type": "code",
   "execution_count": 84,
   "metadata": {},
   "outputs": [
    {
     "data": {
      "text/plain": [
       "array([[ 0.30964016, -0.74801824, -0.71008841, ...,  0.94761499,\n",
       "        -0.5755529 , -1.68823831],\n",
       "       [ 0.30964016, -0.74801824, -0.71195369, ...,  0.94761499,\n",
       "        -0.5755529 , -1.68823831],\n",
       "       [ 0.30964016,  0.59531588,  1.13280097, ...,  0.94761499,\n",
       "        -0.5755529 , -1.68823831],\n",
       "       ...,\n",
       "       [ 0.30964016,  0.88734504,  1.38461278, ...,  0.94761499,\n",
       "        -0.5755529 ,  0.94591527],\n",
       "       [-1.86583361, -1.40508384, -0.77164241, ..., -1.03080051,\n",
       "        -0.5755529 ,  0.94591527],\n",
       "       [ 0.30964016,  1.20857711,  1.13280097, ...,  0.94761499,\n",
       "        -0.5755529 ,  0.94591527]])"
      ]
     },
     "execution_count": 84,
     "metadata": {},
     "output_type": "execute_result"
    }
   ],
   "source": [
    "x"
   ]
  },
  {
   "cell_type": "code",
   "execution_count": 85,
   "metadata": {},
   "outputs": [
    {
     "ename": "AttributeError",
     "evalue": "'numpy.ndarray' object has no attribute 'head'",
     "output_type": "error",
     "traceback": [
      "\u001b[1;31m---------------------------------------------------------------------------\u001b[0m",
      "\u001b[1;31mAttributeError\u001b[0m                            Traceback (most recent call last)",
      "\u001b[1;32m<ipython-input-85-830ed5e65d76>\u001b[0m in \u001b[0;36m<module>\u001b[1;34m\u001b[0m\n\u001b[1;32m----> 1\u001b[1;33m \u001b[0mx\u001b[0m\u001b[1;33m.\u001b[0m\u001b[0mhead\u001b[0m\u001b[1;33m(\u001b[0m\u001b[1;33m)\u001b[0m\u001b[1;33m\u001b[0m\u001b[1;33m\u001b[0m\u001b[0m\n\u001b[0m",
      "\u001b[1;31mAttributeError\u001b[0m: 'numpy.ndarray' object has no attribute 'head'"
     ]
    }
   ],
   "source": [
    "x.head()"
   ]
  },
  {
   "cell_type": "code",
   "execution_count": 86,
   "metadata": {},
   "outputs": [],
   "source": [
    "y=df['Price']"
   ]
  },
  {
   "cell_type": "code",
   "execution_count": 87,
   "metadata": {},
   "outputs": [
    {
     "data": {
      "text/plain": [
       "0    448500\n",
       "1    474500\n",
       "2    415500\n",
       "3    273500\n",
       "4    539000\n",
       "Name: Price, dtype: int64"
      ]
     },
     "execution_count": 87,
     "metadata": {},
     "output_type": "execute_result"
    }
   ],
   "source": [
    "y.head()"
   ]
  },
  {
   "cell_type": "markdown",
   "metadata": {},
   "source": [
    "## Traing the Linear Regression Model and finding the best randomstate and r2_score"
   ]
  },
  {
   "cell_type": "code",
   "execution_count": 88,
   "metadata": {},
   "outputs": [],
   "source": [
    "from sklearn.model_selection import train_test_split\n",
    "from sklearn.linear_model import LinearRegression\n",
    "from sklearn.metrics import r2_score"
   ]
  },
  {
   "cell_type": "code",
   "execution_count": 89,
   "metadata": {},
   "outputs": [
    {
     "name": "stdout",
     "output_type": "stream",
     "text": [
      "Best Accuracy is  0.1117835653759447  on Random State 808\n"
     ]
    }
   ],
   "source": [
    "maxr2score=0\n",
    "maxRandomState=0\n",
    "for i in range(1,1000):\n",
    "    x_train,x_test,y_train,y_test = train_test_split(x,y,test_size=.22,random_state=i)\n",
    "    lr=LinearRegression()\n",
    "    lr.fit(x_train,y_train)\n",
    "    pred=lr.predict(x_test)\n",
    "    r2score=r2_score(y_test,pred)\n",
    "    if r2score > maxr2score:\n",
    "        maxr2score= r2score\n",
    "        maxRandomState=i\n",
    "print(\"Best Accuracy is \",maxr2score,\" on Random State\",maxRandomState)"
   ]
  },
  {
   "cell_type": "code",
   "execution_count": 90,
   "metadata": {},
   "outputs": [
    {
     "name": "stdout",
     "output_type": "stream",
     "text": [
      "0.1117835653759447\n"
     ]
    }
   ],
   "source": [
    "x_train,x_test,y_train,y_test = train_test_split(x,y,test_size=.22,random_state=808)\n",
    "lr=LinearRegression()\n",
    "lr.fit(x_train,y_train)\n",
    "predlr=lr.predict(x_test)\n",
    "r2score=r2_score(y_test,predlr)\n",
    "print(r2score)"
   ]
  },
  {
   "cell_type": "code",
   "execution_count": 91,
   "metadata": {},
   "outputs": [
    {
     "name": "stdout",
     "output_type": "stream",
     "text": [
      " At  cross fole 2  the cv_core is -0.02492505331535716  \n",
      " At  cross fole 3  the cv_core is -0.0028744994426217474  \n",
      " At  cross fole 4  the cv_core is 0.011768857485547207  \n",
      " At  cross fole 5  the cv_core is -0.014282160690048396  \n",
      " At  cross fole 6  the cv_core is 0.0030224928085436273  \n",
      " At  cross fole 7  the cv_core is 0.016696588426833667  \n",
      " At  cross fole 8  the cv_core is 0.019822875269619844  \n",
      " At  cross fole 9  the cv_core is 0.022498003831057194  \n"
     ]
    }
   ],
   "source": [
    "from sklearn.model_selection import cross_val_score\n",
    "for j in range(2,10):\n",
    "    cv_score=cross_val_score(lr,x,y,cv=j)\n",
    "    cv_mean=cv_score.mean()\n",
    "    print(f\" At  cross fole {j}  the cv_core is {cv_mean}  \")"
   ]
  },
  {
   "cell_type": "code",
   "execution_count": null,
   "metadata": {},
   "outputs": [],
   "source": []
  },
  {
   "cell_type": "code",
   "execution_count": 92,
   "metadata": {},
   "outputs": [
    {
     "data": {
      "image/png": "[encoded data removed]",
      "text/plain": [
       "<Figure size 576x432 with 1 Axes>"
      ]
     },
     "metadata": {
      "needs_background": "light"
     },
     "output_type": "display_data"
    }
   ],
   "source": [
    "import matplotlib.pyplot as plt\n",
    "plt.figure(figsize=(8,6))\n",
    "plt.scatter(x=y_test,y=predlr,color='r')\n",
    "plt.plot(y_test,y_test,color='b')\n",
    "plt.xlabel(\"Actual_SalePrice\",fontsize=14)\n",
    "plt.ylabel(\"predicted_SalePrice\",fontsize=20)\n",
    "plt.title(\"Linear_Regression\",fontsize=25)\n",
    "plt.show()"
   ]
  },
  {
   "cell_type": "markdown",
   "metadata": {},
   "source": [
    "# Training the DecisionTree Model and finding the best randomstate and r2_score"
   ]
  },
  {
   "cell_type": "code",
   "execution_count": 93,
   "metadata": {},
   "outputs": [],
   "source": [
    "from sklearn.model_selection import train_test_split\n",
    "from sklearn.tree import DecisionTreeRegressor\n",
    "from sklearn.metrics import r2_score"
   ]
  },
  {
   "cell_type": "code",
   "execution_count": 94,
   "metadata": {},
   "outputs": [
    {
     "name": "stdout",
     "output_type": "stream",
     "text": [
      "Best Accuracy is  0.9832492109830121  on Random State 942\n"
     ]
    }
   ],
   "source": [
    "maxr2score=0\n",
    "maxRandomState=0\n",
    "for i in range(1,1000):\n",
    "    x_train,x_test,y_train,y_test = train_test_split(x,y,test_size=.22,random_state=i)\n",
    "    dtr=DecisionTreeRegressor()\n",
    "    dtr.fit(x_train,y_train)\n",
    "    preddtr=dtr.predict(x_test)\n",
    "    r2score=r2_score(y_test,preddtr)\n",
    "    if r2score > maxr2score:\n",
    "        maxr2score= r2score\n",
    "        maxRandomState=i\n",
    "print(\"Best Accuracy is \",maxr2score,\" on Random State\",maxRandomState)"
   ]
  },
  {
   "cell_type": "code",
   "execution_count": 95,
   "metadata": {},
   "outputs": [
    {
     "name": "stdout",
     "output_type": "stream",
     "text": [
      "0.9850506474141556\n"
     ]
    }
   ],
   "source": [
    "x_train,x_test,y_train,y_test = train_test_split(x,y,test_size=.22,random_state=595)\n",
    "dtr=DecisionTreeRegressor()\n",
    "dtr.fit(x_train,y_train)\n",
    "preddtr=dtr.predict(x_test)\n",
    "r2score=r2_score(y_test,preddtr)\n",
    "print(r2score)"
   ]
  },
  {
   "cell_type": "code",
   "execution_count": 96,
   "metadata": {},
   "outputs": [
    {
     "name": "stdout",
     "output_type": "stream",
     "text": [
      " At  cross fole 2  the cv_core is 0.04887689799876627  \n",
      " At  cross fole 3  the cv_core is -0.6166675144262673  \n",
      " At  cross fole 4  the cv_core is -0.21562264466836548  \n",
      " At  cross fole 5  the cv_core is -2.1137161739488137  \n",
      " At  cross fole 6  the cv_core is -3.0479821848153765  \n",
      " At  cross fole 7  the cv_core is -2.489317172280505  \n",
      " At  cross fole 8  the cv_core is -0.7292107572275521  \n",
      " At  cross fole 9  the cv_core is -4.3790015893490795  \n"
     ]
    }
   ],
   "source": [
    "from sklearn.model_selection import cross_val_score\n",
    "for j in range(2,10):\n",
    "    cv_score=cross_val_score(dtr,x,y,cv=j)\n",
    "    cv_mean=cv_score.mean()\n",
    "    print(f\" At  cross fole {j}  the cv_core is {cv_mean}  \")"
   ]
  },
  {
   "cell_type": "code",
   "execution_count": 97,
   "metadata": {},
   "outputs": [
    {
     "data": {
      "image/png": "[encoded data removed]",
      "text/plain": [
       "<Figure size 576x432 with 1 Axes>"
      ]
     },
     "metadata": {
      "needs_background": "light"
     },
     "output_type": "display_data"
    }
   ],
   "source": [
    "import matplotlib.pyplot as plt\n",
    "plt.figure(figsize=(8,6))\n",
    "plt.scatter(x=y_test,y=preddtr,color='r')\n",
    "plt.plot(y_test,y_test,color='b')\n",
    "plt.xlabel(\"Actual_SalePrice\",fontsize=14)\n",
    "plt.ylabel(\"predicted_SalePrice\",fontsize=20)\n",
    "plt.title(\"DecisionTreeREGRESSOR\",fontsize=25)\n",
    "plt.show()"
   ]
  },
  {
   "cell_type": "markdown",
   "metadata": {},
   "source": [
    "# Ensemble Technique"
   ]
  },
  {
   "cell_type": "markdown",
   "metadata": {},
   "source": [
    "# Training the RandomForestRegressor Model and finding the best randomstate and r2_score"
   ]
  },
  {
   "cell_type": "code",
   "execution_count": 98,
   "metadata": {},
   "outputs": [],
   "source": [
    "from sklearn.model_selection import train_test_split\n",
    "from sklearn.ensemble import RandomForestRegressor\n",
    "from sklearn.metrics import r2_score"
   ]
  },
  {
   "cell_type": "code",
   "execution_count": 99,
   "metadata": {},
   "outputs": [
    {
     "name": "stdout",
     "output_type": "stream",
     "text": [
      "Best Accuracy is  0.9272682097106089  on Random State 332\n"
     ]
    }
   ],
   "source": [
    "maxr2score=0\n",
    "maxRandomState=0\n",
    "for i in range(1,1000):\n",
    "    x_train,x_test,y_train,y_test = train_test_split(x,y,test_size=.22,random_state=i)\n",
    "    rfr=RandomForestRegressor()\n",
    "    rfr.fit(x_train,y_train)\n",
    "    predrfr=rfr.predict(x_test)\n",
    "    r2score=r2_score(y_test,predrfr)\n",
    "    if r2score > maxr2score:\n",
    "        maxr2score= r2score\n",
    "        maxRandomState=i\n",
    "print(\"Best Accuracy is \",maxr2score,\" on Random State\",maxRandomState)"
   ]
  },
  {
   "cell_type": "code",
   "execution_count": 100,
   "metadata": {},
   "outputs": [
    {
     "name": "stdout",
     "output_type": "stream",
     "text": [
      "0.8562060860386085\n"
     ]
    }
   ],
   "source": [
    "x_train,x_test,y_train,y_test = train_test_split(x,y,test_size=.22,random_state=332)\n",
    "rfr=RandomForestRegressor()\n",
    "rfr.fit(x_train,y_train)\n",
    "predrfr=rfr.predict(x_test)\n",
    "r2score=r2_score(y_test,predrfr)\n",
    "print(r2score)"
   ]
  },
  {
   "cell_type": "code",
   "execution_count": 101,
   "metadata": {},
   "outputs": [
    {
     "name": "stdout",
     "output_type": "stream",
     "text": [
      " At  cross fole 2  the cv_core is -0.021351540884312903  \n",
      " At  cross fole 3  the cv_core is -0.3332154930410846  \n",
      " At  cross fole 4  the cv_core is 0.22394264460576652  \n",
      " At  cross fole 5  the cv_core is -0.13265723344170452  \n",
      " At  cross fole 6  the cv_core is -0.615345593315794  \n",
      " At  cross fole 7  the cv_core is -0.9635313994553083  \n",
      " At  cross fole 8  the cv_core is -0.543024938229036  \n",
      " At  cross fole 9  the cv_core is -1.0645216025089965  \n"
     ]
    }
   ],
   "source": [
    "from sklearn.model_selection import cross_val_score\n",
    "for j in range(2,10):\n",
    "    cv_score=cross_val_score(rfr,x,y,cv=j)\n",
    "    cv_mean=cv_score.mean()\n",
    "    print(f\" At  cross fole {j}  the cv_core is {cv_mean}  \")"
   ]
  },
  {
   "cell_type": "code",
   "execution_count": 102,
   "metadata": {},
   "outputs": [
    {
     "data": {
      "image/png": "[encoded data removed]",
      "text/plain": [
       "<Figure size 576x432 with 1 Axes>"
      ]
     },
     "metadata": {
      "needs_background": "light"
     },
     "output_type": "display_data"
    }
   ],
   "source": [
    "import matplotlib.pyplot as plt\n",
    "plt.figure(figsize=(8,6))\n",
    "plt.scatter(x=y_test,y=predrfr,color='r')\n",
    "plt.plot(y_test,y_test,color='b')\n",
    "plt.xlabel(\"Actual_SalePrice\",fontsize=14)\n",
    "plt.ylabel(\"predicted_SalePrice\",fontsize=20)\n",
    "plt.title(\"RandomForestRegressor\",fontsize=25)\n",
    "plt.show()"
   ]
  },
  {
   "cell_type": "markdown",
   "metadata": {},
   "source": [
    "# Regularization"
   ]
  },
  {
   "cell_type": "markdown",
   "metadata": {},
   "source": [
    "# Lasso"
   ]
  },
  {
   "cell_type": "code",
   "execution_count": 103,
   "metadata": {},
   "outputs": [],
   "source": [
    "from sklearn.model_selection import GridSearchCV\n",
    "from sklearn.model_selection import cross_val_score\n",
    "import warnings \n",
    "warnings.filterwarnings('ignore')"
   ]
  },
  {
   "cell_type": "code",
   "execution_count": 104,
   "metadata": {},
   "outputs": [
    {
     "name": "stdout",
     "output_type": "stream",
     "text": [
      "{'alpha': 10, 'random_state': 0}\n"
     ]
    }
   ],
   "source": [
    "from sklearn.linear_model import Lasso\n",
    "parameters={'alpha':[.0001,.001,.01,.1,1,10], 'random_state':list(range(0,10))}\n",
    "ls=Lasso()\n",
    "clf=GridSearchCV(ls,parameters,cv=8)\n",
    "clf.fit(x_train,y_train)\n",
    "\n",
    "print(clf.best_params_)"
   ]
  },
  {
   "cell_type": "code",
   "execution_count": 106,
   "metadata": {},
   "outputs": [
    {
     "data": {
      "text/plain": [
       "0.03520420201989827"
      ]
     },
     "execution_count": 106,
     "metadata": {},
     "output_type": "execute_result"
    }
   ],
   "source": [
    "ls=Lasso(alpha=10,random_state=0)\n",
    "ls.fit(x_train,y_train)\n",
    "ls.score(x_train,y_train)\n",
    "\n",
    "pred_ls = ls.predict(x_test)\n",
    "\n",
    "lss=r2_score(y_test,pred_ls)\n",
    "lss"
   ]
  },
  {
   "cell_type": "code",
   "execution_count": 107,
   "metadata": {},
   "outputs": [
    {
     "data": {
      "image/png": "[encoded data removed]",
      "text/plain": [
       "<Figure size 576x432 with 1 Axes>"
      ]
     },
     "metadata": {
      "needs_background": "light"
     },
     "output_type": "display_data"
    }
   ],
   "source": [
    "import matplotlib.pyplot as plt\n",
    "plt.figure(figsize=(8,6))\n",
    "plt.scatter(x=y_test,y=pred_ls,color='r')\n",
    "plt.plot(y_test,y_test,color='b')\n",
    "plt.xlabel(\"Actual_SalePrice\",fontsize=14)\n",
    "plt.ylabel(\"predicted_SalePrice\",fontsize=20)\n",
    "plt.title(\"Lasso\",fontsize=25)\n",
    "plt.show()"
   ]
  },
  {
   "cell_type": "markdown",
   "metadata": {},
   "source": [
    "# Ridge"
   ]
  },
  {
   "cell_type": "code",
   "execution_count": 108,
   "metadata": {},
   "outputs": [
    {
     "name": "stdout",
     "output_type": "stream",
     "text": [
      "{'alpha': 10, 'random_state': 0}\n"
     ]
    }
   ],
   "source": [
    "from sklearn.linear_model import Ridge\n",
    "parameters={'alpha':[.0001,.001,.01,.1,1,10], 'random_state':list(range(0,10))}\n",
    "rd=Ridge()\n",
    "clf=GridSearchCV(rd,parameters,cv=8)\n",
    "clf.fit(x_train,y_train)\n",
    "\n",
    "print(clf.best_params_)"
   ]
  },
  {
   "cell_type": "code",
   "execution_count": 109,
   "metadata": {},
   "outputs": [
    {
     "data": {
      "text/plain": [
       "0.03521350958402414"
      ]
     },
     "execution_count": 109,
     "metadata": {},
     "output_type": "execute_result"
    }
   ],
   "source": [
    "rd=Ridge(alpha=10,random_state=0)\n",
    "rd.fit(x_train,y_train)\n",
    "rd.score(x_train,y_train)\n",
    "pred_rd = rd.predict(x_test)\n",
    "\n",
    "rds=r2_score(y_test,pred_rd)\n",
    "rds"
   ]
  },
  {
   "cell_type": "code",
   "execution_count": 110,
   "metadata": {},
   "outputs": [
    {
     "data": {
      "image/png": "[encoded data removed]",
      "text/plain": [
       "<Figure size 576x432 with 1 Axes>"
      ]
     },
     "metadata": {
      "needs_background": "light"
     },
     "output_type": "display_data"
    }
   ],
   "source": [
    "\n",
    "import matplotlib.pyplot as plt\n",
    "plt.figure(figsize=(8,6))\n",
    "plt.scatter(x=y_test,y=pred_rd,color='r')\n",
    "plt.plot(y_test,y_test,color='b')\n",
    "plt.xlabel(\"Actual_SalePrice\",fontsize=14)\n",
    "plt.ylabel(\"predicted_SalePrice\",fontsize=20)\n",
    "plt.title(\"Ridge\",fontsize=25)\n",
    "plt.show()\n",
    "\n"
   ]
  },
  {
   "cell_type": "code",
   "execution_count": null,
   "metadata": {},
   "outputs": [],
   "source": [
    "As the best fit line is covering all the  predicted points are"
   ]
  },
  {
   "cell_type": "markdown",
   "metadata": {},
   "source": [
    "# HyperParameter Tuning of DecisionTreeClassifier"
   ]
  },
  {
   "cell_type": "code",
   "execution_count": 121,
   "metadata": {},
   "outputs": [],
   "source": [
    "from sklearn.model_selection import GridSearchCV\n",
    " # creating parameter list to pass in GridSearchCV\n",
    "parameters ={'max_depth': np.arange(2,15),\n",
    "            'criterion':['mse', 'friedman_mse', 'mae', 'poisson'],\n",
    "            'splitter': ['best', 'random'],\n",
    "            'max_features':['auto', 'sqrt', 'log2']}"
   ]
  },
  {
   "cell_type": "code",
   "execution_count": 122,
   "metadata": {},
   "outputs": [],
   "source": [
    "CGV=GridSearchCV(DecisionTreeRegressor(),parameters,cv=5)"
   ]
  },
  {
   "cell_type": "code",
   "execution_count": 123,
   "metadata": {},
   "outputs": [
    {
     "data": {
      "text/plain": [
       "GridSearchCV(cv=5, estimator=DecisionTreeRegressor(),\n",
       "             param_grid={'criterion': ['mse', 'friedman_mse', 'mae', 'poisson'],\n",
       "                         'max_depth': array([ 2,  3,  4,  5,  6,  7,  8,  9, 10, 11, 12, 13, 14]),\n",
       "                         'max_features': ['auto', 'sqrt', 'log2'],\n",
       "                         'splitter': ['best', 'random']})"
      ]
     },
     "execution_count": 123,
     "metadata": {},
     "output_type": "execute_result"
    }
   ],
   "source": [
    "CGV.fit(x_train,y_train)"
   ]
  },
  {
   "cell_type": "code",
   "execution_count": 124,
   "metadata": {},
   "outputs": [
    {
     "data": {
      "text/plain": [
       "{'criterion': 'friedman_mse',\n",
       " 'max_depth': 11,\n",
       " 'max_features': 'log2',\n",
       " 'splitter': 'best'}"
      ]
     },
     "execution_count": 124,
     "metadata": {},
     "output_type": "execute_result"
    }
   ],
   "source": [
    "CGV.best_params_      "
   ]
  },
  {
   "cell_type": "code",
   "execution_count": 125,
   "metadata": {},
   "outputs": [],
   "source": [
    "\n",
    "CGV_pred=CGV.best_estimator_.predict(x_test)"
   ]
  },
  {
   "cell_type": "code",
   "execution_count": 127,
   "metadata": {},
   "outputs": [
    {
     "data": {
      "text/plain": [
       "-1.7554387814655823"
      ]
     },
     "execution_count": 127,
     "metadata": {},
     "output_type": "execute_result"
    }
   ],
   "source": [
    "r2_score(y_test,CGV_pred)"
   ]
  },
  {
   "cell_type": "markdown",
   "metadata": {},
   "source": [
    "###### as we can see that the DecisionTreeRegressor is not giving the desired result so going with RandomForestRegressor"
   ]
  },
  {
   "cell_type": "markdown",
   "metadata": {},
   "source": [
    "#    # Hyperparameter Tuning of RandomForest Regressor"
   ]
  },
  {
   "cell_type": "code",
   "execution_count": 133,
   "metadata": {},
   "outputs": [
    {
     "name": "stdout",
     "output_type": "stream",
     "text": [
      "{'criterion': 'mae', 'max_features': 'log2'}\n"
     ]
    }
   ],
   "source": [
    "\n",
    "from sklearn.model_selection import GridSearchCV\n",
    "\n",
    "\n",
    "parameters={'criterion':['mse','mae'],'max_features':[\"auto\",\"sqrt\",'log2']}\n",
    "rf=RandomForestRegressor()\n",
    "clf=GridSearchCV(rf,parameters)\n",
    "clf.fit(x_train,y_train)\n",
    "\n",
    "print(clf.best_params_)"
   ]
  },
  {
   "cell_type": "code",
   "execution_count": 134,
   "metadata": {},
   "outputs": [
    {
     "name": "stdout",
     "output_type": "stream",
     "text": [
      "R2_score 82.49177038172184\n"
     ]
    }
   ],
   "source": [
    "rf=RandomForestRegressor(criterion='mse' ,max_features='sqrt')\n",
    "rf.fit(x_train,y_train)\n",
    "rf.score(x_train,y_train)\n",
    "pred_rf=rf.predict(x_test)\n",
    "\n",
    "rfs= r2_score(y_test,pred_rf)\n",
    "print(\"R2_score\",rfs*100)"
   ]
  },
  {
   "cell_type": "markdown",
   "metadata": {},
   "source": [
    "# Saving The Model"
   ]
  },
  {
   "cell_type": "code",
   "execution_count": 135,
   "metadata": {},
   "outputs": [],
   "source": [
    "import pickle\n",
    "filename='Car_price_prediction.pkl'\n",
    "pickle.dump(rf,open(filename,'wb'))"
   ]
  },
  {
   "cell_type": "markdown",
   "metadata": {},
   "source": [
    "# Checking our prepared model"
   ]
  },
  {
   "cell_type": "code",
   "execution_count": 136,
   "metadata": {},
   "outputs": [
    {
     "name": "stdout",
     "output_type": "stream",
     "text": [
      "0.8249177038172184\n"
     ]
    }
   ],
   "source": [
    "\n",
    "loaded_model=pickle.load(open('Car_price_prediction.pkl','rb'))\n",
    "result=loaded_model.score(x_test,y_test)\n",
    "\n",
    "print(result)"
   ]
  },
  {
   "cell_type": "code",
   "execution_count": 138,
   "metadata": {},
   "outputs": [],
   "source": [
    "conclusion=pd.DataFrame([loaded_model.predict(x_test)[:],pred_rf[:]],index=[\"Predicted\",\"Original\"])"
   ]
  },
  {
   "cell_type": "code",
   "execution_count": 139,
   "metadata": {},
   "outputs": [
    {
     "data": {
      "text/html": [
       "<div>\n",
       "<style scoped>\n",
       "    .dataframe tbody tr th:only-of-type {\n",
       "        vertical-align: middle;\n",
       "    }\n",
       "\n",
       "    .dataframe tbody tr th {\n",
       "        vertical-align: top;\n",
       "    }\n",
       "\n",
       "    .dataframe thead th {\n",
       "        text-align: right;\n",
       "    }\n",
       "</style>\n",
       "<table border=\"1\" class=\"dataframe\">\n",
       "  <thead>\n",
       "    <tr style=\"text-align: right;\">\n",
       "      <th></th>\n",
       "      <th>0</th>\n",
       "      <th>1</th>\n",
       "      <th>2</th>\n",
       "      <th>3</th>\n",
       "      <th>4</th>\n",
       "      <th>5</th>\n",
       "      <th>6</th>\n",
       "      <th>7</th>\n",
       "      <th>8</th>\n",
       "      <th>9</th>\n",
       "      <th>...</th>\n",
       "      <th>1607</th>\n",
       "      <th>1608</th>\n",
       "      <th>1609</th>\n",
       "      <th>1610</th>\n",
       "      <th>1611</th>\n",
       "      <th>1612</th>\n",
       "      <th>1613</th>\n",
       "      <th>1614</th>\n",
       "      <th>1615</th>\n",
       "      <th>1616</th>\n",
       "    </tr>\n",
       "  </thead>\n",
       "  <tbody>\n",
       "    <tr>\n",
       "      <th>Predicted</th>\n",
       "      <td>1312600.0</td>\n",
       "      <td>394135.09</td>\n",
       "      <td>591870.0</td>\n",
       "      <td>210050.31</td>\n",
       "      <td>75400.0</td>\n",
       "      <td>380850.0</td>\n",
       "      <td>174450.09</td>\n",
       "      <td>2052890.0</td>\n",
       "      <td>851575.23</td>\n",
       "      <td>791250.073333</td>\n",
       "      <td>...</td>\n",
       "      <td>316360.0</td>\n",
       "      <td>575810.0</td>\n",
       "      <td>807275.0</td>\n",
       "      <td>194110.31</td>\n",
       "      <td>463010.0</td>\n",
       "      <td>599955.0</td>\n",
       "      <td>250250.0</td>\n",
       "      <td>564930.0</td>\n",
       "      <td>701830.0</td>\n",
       "      <td>683415.0</td>\n",
       "    </tr>\n",
       "    <tr>\n",
       "      <th>Original</th>\n",
       "      <td>1312600.0</td>\n",
       "      <td>394135.09</td>\n",
       "      <td>591870.0</td>\n",
       "      <td>210050.31</td>\n",
       "      <td>75400.0</td>\n",
       "      <td>380850.0</td>\n",
       "      <td>174450.09</td>\n",
       "      <td>2052890.0</td>\n",
       "      <td>851575.23</td>\n",
       "      <td>791250.073333</td>\n",
       "      <td>...</td>\n",
       "      <td>316360.0</td>\n",
       "      <td>575810.0</td>\n",
       "      <td>807275.0</td>\n",
       "      <td>194110.31</td>\n",
       "      <td>463010.0</td>\n",
       "      <td>599955.0</td>\n",
       "      <td>250250.0</td>\n",
       "      <td>564930.0</td>\n",
       "      <td>701830.0</td>\n",
       "      <td>683415.0</td>\n",
       "    </tr>\n",
       "  </tbody>\n",
       "</table>\n",
       "<p>2 rows × 1617 columns</p>\n",
       "</div>"
      ],
      "text/plain": [
       "                0          1         2          3        4         5     \\\n",
       "Predicted  1312600.0  394135.09  591870.0  210050.31  75400.0  380850.0   \n",
       "Original   1312600.0  394135.09  591870.0  210050.31  75400.0  380850.0   \n",
       "\n",
       "                6          7          8              9     ...      1607  \\\n",
       "Predicted  174450.09  2052890.0  851575.23  791250.073333  ...  316360.0   \n",
       "Original   174450.09  2052890.0  851575.23  791250.073333  ...  316360.0   \n",
       "\n",
       "               1608      1609       1610      1611      1612      1613  \\\n",
       "Predicted  575810.0  807275.0  194110.31  463010.0  599955.0  250250.0   \n",
       "Original   575810.0  807275.0  194110.31  463010.0  599955.0  250250.0   \n",
       "\n",
       "               1614      1615      1616  \n",
       "Predicted  564930.0  701830.0  683415.0  \n",
       "Original   564930.0  701830.0  683415.0  \n",
       "\n",
       "[2 rows x 1617 columns]"
      ]
     },
     "execution_count": 139,
     "metadata": {},
     "output_type": "execute_result"
    }
   ],
   "source": [
    "conclusion"
   ]
  },
  {
   "cell_type": "markdown",
   "metadata": {},
   "source": [
    "# As you can see the predicted and original price are matching means our model has learnt well"
   ]
  },
  {
   "cell_type": "code",
   "execution_count": null,
   "metadata": {},
   "outputs": [],
   "source": []
  }
 ],
 "metadata": {
  "kernelspec": {
   "display_name": "Python 3",
   "language": "python",
   "name": "python3"
  },
  "language_info": {
   "codemirror_mode": {
    "name": "ipython",
    "version": 3
   },
   "file_extension": ".py",
   "mimetype": "text/x-python",
   "name": "python",
   "nbconvert_exporter": "python",
   "pygments_lexer": "ipython3",
   "version": "3.8.5"
  }
 },
 "nbformat": 4,
 "nbformat_minor": 5
}
